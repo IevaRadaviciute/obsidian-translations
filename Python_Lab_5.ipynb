{
  "cells": [
    {
      "cell_type": "markdown",
      "id": "9661feed",
      "metadata": {
        "id": "9661feed"
      },
      "source": [
        "## Programavimo įvado pratybos\n",
        "\n",
        "- Python komandoms prisiminti: ``https://www.w3schools.com/python/``\n",
        "- Naudingos Powershell komandos:\n",
        "\n",
        "    - `ls` - pažiūrėti katalogo turinį\n",
        "\n",
        "    - `md` - sukurti naują katalogą\n",
        "\n",
        "    - `cd` - pereiti į katalogą / iš katalogo\n",
        "\n",
        "    - `ni p5.py` - sukuria naują bylą vardu `p5.py`\n",
        "\n",
        "    - `python p5.py` - kompiliuoja Python programą\n",
        "\n",
        "    - `python p5.py arg` - kompiliuoja Python programą pateikiant argumentus"
      ]
    },
    {
      "cell_type": "markdown",
      "source": [
        "`while` ciklas yra atviurojo tipo (iteracijų skaičiumi neapibrėžtas) ciklas, kartojamas tol kol tenkinama kažkokia sąlyga."
      ],
      "metadata": {
        "id": "JhOVVPxx4FZU"
      },
      "id": "JhOVVPxx4FZU"
    },
    {
      "cell_type": "code",
      "source": [
        "# Sukuriama skaitiklio vertė\n",
        "count = 1\n",
        "\n",
        "# While ciklas prieš kiekvieną iteraciją patikrina sąlygą\n",
        "while count <= 5:\n",
        "    print(f\"Current count is: {count}\")\n",
        "\n",
        "    # Pakeičiam skaitiklio vertę\n",
        "    count = count + 2\n",
        "\n",
        "# Ši kodo dalis vykdoma kai while ciklo sąlyga ne(be)tenkinama\n",
        "print(\"The loop has finished counting.\")"
      ],
      "metadata": {
        "id": "CBLoGo9T3qyE",
        "outputId": "e527a030-124d-4e1c-87dc-74d61295ec6e",
        "colab": {
          "base_uri": "https://localhost:8080/"
        }
      },
      "id": "CBLoGo9T3qyE",
      "execution_count": 4,
      "outputs": [
        {
          "output_type": "stream",
          "name": "stdout",
          "text": [
            "Current count is: 1\n",
            "Current count is: 3\n",
            "Current count is: 5\n",
            "The loop has finished counting.\n"
          ]
        }
      ]
    },
    {
      "cell_type": "markdown",
      "source": [
        "Pakeiskite viršuje esantį kodą ir pažiūrėkite kaip pasikeičia \"output\":\n",
        "\n",
        "\n",
        "1.   Pakeiskite count vertę iš 1 į 5\n",
        "2.   Pakeiskite sąlygoje vertę iš 5 į 10\n",
        "3.   Pakeiskite skaitiklio žingsnį iš +1 į +2\n",
        "\n",
        "\n"
      ],
      "metadata": {
        "id": "51ZWcCp-4SDW"
      },
      "id": "51ZWcCp-4SDW"
    },
    {
      "cell_type": "markdown",
      "source": [
        "Žodynai (dictionaries) kai panaudojami teisingai, yra labai patogus įrankis saugoti informaciją. Informacija saugoma rakto:vertės poromis."
      ],
      "metadata": {
        "id": "jQSsmH_y5MGZ"
      },
      "id": "jQSsmH_y5MGZ"
    },
    {
      "cell_type": "code",
      "source": [
        "# 1. Sukuriamas žodynas kur raktai yra vardai (strings)\n",
        "#    o vertės yra testo rezultatai (integers).\n",
        "student_grades = {\"Alice\": 88, \"Bob\": 92, \"Charlie\": 76}\n",
        "\n",
        "print(\"--- Initial Grades ---\")\n",
        "print(student_grades)\n",
        "\n",
        "# 2. Vertes pasiekiame naudodami raktus (keys)\n",
        "bobs_score = student_grades[\"Bob\"]\n",
        "print(f\"\\nBob's score is: {bobs_score}\")\n",
        "\n",
        "# 3. Galime pridėti naują key:value porą\n",
        "student_grades[\"Diana\"] = 95\n",
        "print(f\"\\nAfter adding Diana: {student_grades}\")\n",
        "\n",
        "# 4. Galime modifikuoti/pakeisti esamą vertę\n",
        "student_grades[\"Alice\"] = 90\n",
        "print(f\"\\nAfter updating Alice's score: {student_grades}\")\n",
        "\n",
        "# 5. Pašalinti key:value porą (Optional: for a slightly advanced concept)\n",
        "del student_grades[\"Charlie\"]\n",
        "print(f\"\\nAfter removing Charlie: {student_grades}\")"
      ],
      "metadata": {
        "id": "mFGoYQrp5LJG",
        "outputId": "8cefa6f7-4fa0-4290-d6a2-4623d8f0fb3d",
        "colab": {
          "base_uri": "https://localhost:8080/"
        }
      },
      "id": "mFGoYQrp5LJG",
      "execution_count": 5,
      "outputs": [
        {
          "output_type": "stream",
          "name": "stdout",
          "text": [
            "--- Initial Grades ---\n",
            "{'Alice': 88, 'Bob': 92, 'Charlie': 76}\n",
            "\n",
            "Bob's score is: 92\n",
            "\n",
            "After adding Diana: {'Alice': 88, 'Bob': 92, 'Charlie': 76, 'Diana': 95}\n",
            "\n",
            "After updating Alice's score: {'Alice': 90, 'Bob': 92, 'Charlie': 76, 'Diana': 95}\n",
            "\n",
            "After removing Charlie: {'Alice': 90, 'Bob': 92, 'Diana': 95}\n"
          ]
        }
      ]
    },
    {
      "cell_type": "markdown",
      "source": [
        "### A1\n",
        "\n",
        "Paprašykite įvesti skaičių. Pasinaudodami `while` ciklu atspausdinkite visus skaičius atbuline tvarka įskaitant 0.\n",
        "\n",
        "Pavyzdys:\n",
        "```\n",
        "Įveskite skaičių: 3\n",
        "\n",
        "3\n",
        "2\n",
        "1\n",
        "0\n",
        "```"
      ],
      "metadata": {
        "id": "NYM1pdbPwTVE"
      },
      "id": "NYM1pdbPwTVE"
    },
    {
      "cell_type": "code",
      "source": [
        "skaicius = int(input(\"Įveskite skaičių: \"))\n",
        "\n",
        "while skaicius > 0:\n",
        "  print (skaicius)\n",
        "  skaicius = skaicius - 1"
      ],
      "metadata": {
        "id": "Z6OhGPIiwnwF",
        "outputId": "30ca347a-3944-439e-fd70-b23ef468081c",
        "colab": {
          "base_uri": "https://localhost:8080/"
        }
      },
      "id": "Z6OhGPIiwnwF",
      "execution_count": 6,
      "outputs": [
        {
          "output_type": "stream",
          "name": "stdout",
          "text": [
            "Įveskite skaičių: 7\n",
            "7\n",
            "6\n",
            "5\n",
            "4\n",
            "3\n",
            "2\n",
            "1\n"
          ]
        }
      ]
    },
    {
      "cell_type": "markdown",
      "id": "3f5df523",
      "metadata": {
        "heading_collapsed": true,
        "jp-MarkdownHeadingCollapsed": true,
        "id": "3f5df523"
      },
      "source": [
        "### A2\n",
        "\n",
        " Paprašykite įvesti žodį ir skaičių. Pasinaudodami ``while`` ciklu, atspausdinkite įvestą žodį įvestą skaičių kartų.  \n",
        "\n",
        "Pavyzdys:  \n",
        "\n",
        "```\n",
        "Įveskite žodį: Jonas\n",
        "Įveskite skaičių: 3\n",
        "\n",
        "Jonas\n",
        "Jonas\n",
        "Jonas\n",
        "```"
      ]
    },
    {
      "cell_type": "code",
      "execution_count": 10,
      "id": "8aeef7a1",
      "metadata": {
        "hidden": true,
        "id": "8aeef7a1",
        "outputId": "ab0a4baf-71a1-4d0e-82ec-b986f4928f51",
        "colab": {
          "base_uri": "https://localhost:8080/"
        }
      },
      "outputs": [
        {
          "output_type": "stream",
          "name": "stdout",
          "text": [
            "Įveskite žodį: Ieva\n",
            "Įveskite skaičių: 4\n",
            "\n",
            "\n",
            "Ieva\n",
            "Ieva\n",
            "Ieva\n",
            "Ieva\n"
          ]
        }
      ],
      "source": [
        "zodis = input(\"Įveskite žodį: \")\n",
        "skaicius = int(input(\"Įveskite skaičių: \"))\n",
        "\n",
        "print(\"\\n\")\n",
        "\n",
        "while skaicius > 0:\n",
        "  print(zodis)\n",
        "  skaicius = skaicius - 1"
      ]
    },
    {
      "cell_type": "markdown",
      "source": [
        "### A3\n",
        "\n",
        "Parašykite programą kuri surinktų jūsų menamo eksperimento vertes.\n",
        "\n",
        "Programa turi paprašyti skaičiaus ir jį išsaugoti sąraše.\n",
        "\n",
        "Įvedinėkite vertes tol, kol jos įvedamos. `len(įvesta_vertė) > 0`.\n",
        "\n",
        "Suskaičiuokite įvestų verčių vidurkį dviejų skaičių po kablelio tikslumu."
      ],
      "metadata": {
        "id": "_r4-cG4wxN_m"
      },
      "id": "_r4-cG4wxN_m"
    },
    {
      "cell_type": "code",
      "source": [
        "duomenys = []\n",
        "x = \"1\"\n",
        "\n",
        "while len(x) > 0:\n",
        "    x = input(\"Įveskite eksperimento duomenis: \")\n",
        "    if len(x) == 0:\n",
        "        break\n",
        "    duomenys.append(int(x))\n",
        "\n",
        "\n",
        "suma = sum(duomenys)\n",
        "ilgis = len(duomenys)\n",
        "\n",
        "vidurkis = suma / ilgis\n",
        "\n",
        "print(\"Jūsų duomenys yra:\", duomenys, f\"\\nVidurkis {vidurkis:.2f}\")\n"
      ],
      "metadata": {
        "id": "bV1z6C5JyGze",
        "outputId": "44f2a2c8-23ba-4f7c-d072-7f277108054f",
        "colab": {
          "base_uri": "https://localhost:8080/"
        }
      },
      "id": "bV1z6C5JyGze",
      "execution_count": 26,
      "outputs": [
        {
          "output_type": "stream",
          "name": "stdout",
          "text": [
            "Įveskite eksperimento duomenis: 7\n",
            "Įveskite eksperimento duomenis: 8\n",
            "Įveskite eksperimento duomenis: 9\n",
            "Įveskite eksperimento duomenis: \n",
            "Jūsų duomenys yra: [7, 8, 9] \n",
            "Vidurkis 8.00\n"
          ]
        }
      ]
    },
    {
      "cell_type": "markdown",
      "source": [
        "### A4\n",
        "\n",
        "Sugeneruokite žodyną, kuriame raktai (keys) būtų skaičiai nuo 1 iki n (n yra vartotojo įvestas skaičius), o vertės (values) - tų skaičių kvadratai. Naudokite `while` ciklą.\n",
        "\n",
        "Pavyzdžiui jei n = 3, žodynas turi atrodyti `{1:1, 2:4, 3:9}`.\n",
        "\n",
        "Užuomina: ``zodynas = {}`` sukuria naują tuščią žodyną.\n",
        "\n",
        "Prisiminkite:\n",
        "\n",
        "\n",
        "```\n",
        "zodynas = {\"raktas\":\"reiksme\"}  # naujo žodyno sukūrimas\n",
        "zodynas[\"raktas\"] = \"reiksme\"   # naujo įrašo sukūrimas"
      ],
      "metadata": {
        "id": "PsczjIG_zk02"
      },
      "id": "PsczjIG_zk02"
    },
    {
      "cell_type": "code",
      "source": [
        "n = int(input(\"Įveskite norimą skaičių: \"))\n",
        "zodynas = {}\n",
        "a = 1\n",
        "\n",
        "while a < n:\n",
        "  zodynas[a] = a**2\n",
        "  a = a + 1\n",
        "\n",
        "print(zodynas)"
      ],
      "metadata": {
        "id": "dnXOWYRKz4BX",
        "outputId": "b154ba8f-1983-4ed2-d889-6b8dc8a04006",
        "colab": {
          "base_uri": "https://localhost:8080/"
        }
      },
      "id": "dnXOWYRKz4BX",
      "execution_count": 30,
      "outputs": [
        {
          "output_type": "stream",
          "name": "stdout",
          "text": [
            "Įveskite norimą skaičių: 5\n",
            "{1: 1, 2: 4, 3: 9, 4: 16}\n"
          ]
        }
      ]
    },
    {
      "cell_type": "markdown",
      "id": "9edec4d2",
      "metadata": {
        "jp-MarkdownHeadingCollapsed": true,
        "id": "9edec4d2"
      },
      "source": [
        "### A5\n",
        "\n",
        "Sukurkite naują tuščią žodyną su trijų žmonių vardais ir jų ūgiais. Žodyno raktas (``key``) turi būti vardas, o vertė (``values``) - ūgis. Pavyzdžiui, Jonas: 1.85, Gabija: 1.75, Erika: 1.60. Šioje užduotyje nebūtina naudoti ``input()`` funkcijos.\n"
      ]
    },
    {
      "cell_type": "code",
      "execution_count": 32,
      "id": "e9dcb75f",
      "metadata": {
        "id": "e9dcb75f",
        "outputId": "2a31a72b-23a3-4199-e37b-432a2b5980ab",
        "colab": {
          "base_uri": "https://localhost:8080/"
        }
      },
      "outputs": [
        {
          "output_type": "stream",
          "name": "stdout",
          "text": [
            "{'Ieva': 1.9, 'Jonas': 1.85, 'Gabija': 1.75}\n"
          ]
        }
      ],
      "source": [
        "zmones = {\"Ieva\":1.90, \"Jonas\": 1.85, \"Gabija\": 1.75}\n",
        "\n",
        "print(zmones)"
      ]
    },
    {
      "cell_type": "markdown",
      "id": "a38924b4",
      "metadata": {
        "jp-MarkdownHeadingCollapsed": true,
        "id": "a38924b4"
      },
      "source": [
        "### A6\n",
        "\n",
        "Iteruodami per žodyną, atspausdinkite jo turinį trijose eilutėse. Naudokite ``for`` ciklą.\n",
        "\n",
        "Pavyzdys:\n",
        "\n",
        "```\n",
        "vardas: Jonas, ūgis: 1.85\n",
        "vardas: Gabija, ūgis: 1.75\n",
        "vardas: Erika, ūgis: 1.60\n",
        "```"
      ]
    },
    {
      "cell_type": "code",
      "execution_count": 51,
      "id": "48891221",
      "metadata": {
        "id": "48891221",
        "outputId": "63f42f38-b18f-499f-88ed-f74547b8be00",
        "colab": {
          "base_uri": "https://localhost:8080/"
        }
      },
      "outputs": [
        {
          "output_type": "stream",
          "name": "stdout",
          "text": [
            "vardas: Ieva, ūgis: 1.9\n",
            "vardas: Jonas, ūgis: 1.85\n",
            "vardas: Gabija, ūgis: 1.75\n"
          ]
        }
      ],
      "source": [
        "for vardas, ugis in zmones.items():\n",
        "    print(f\"vardas: {vardas}, ūgis: {ugis}\")\n"
      ]
    },
    {
      "cell_type": "markdown",
      "id": "86784548",
      "metadata": {
        "jp-MarkdownHeadingCollapsed": true,
        "id": "86784548"
      },
      "source": [
        "### A7\n",
        "\n",
        "Atspausdinkite aukščiausio žmogaus vardą.\n",
        "\n",
        "Užuomina: Pirmiausia suraskite didžiausią ūgį. Tada suraskite šį ūgį atitinkantį vardą. Jums prireiks ``.values()`` ir ``.index()`` metodų, ir ``max()`` funkcijos."
      ]
    },
    {
      "cell_type": "code",
      "execution_count": 64,
      "id": "7487e919",
      "metadata": {
        "id": "7487e919",
        "outputId": "2be0bc4e-e243-4b69-a0c3-be976697fc3b",
        "colab": {
          "base_uri": "https://localhost:8080/"
        }
      },
      "outputs": [
        {
          "output_type": "stream",
          "name": "stdout",
          "text": [
            "Aukščiausias žmogus yra: Ieva, o ūgis: 1.9\n"
          ]
        }
      ],
      "source": [
        "vardai = []\n",
        "ugiai = []\n",
        "\n",
        "vardai = list(zmones.keys())\n",
        "ugiai = list(zmones.values())\n",
        "\n",
        "auksciausias = max(ugiai)\n",
        "\n",
        "i = ugiai.index(auksciausias)\n",
        "print (f\"Aukščiausias žmogus yra: {vardai[i]}, o ūgis: {auksciausias}\")\n"
      ]
    },
    {
      "cell_type": "markdown",
      "id": "5465b090",
      "metadata": {
        "heading_collapsed": true,
        "jp-MarkdownHeadingCollapsed": true,
        "id": "5465b090"
      },
      "source": [
        "### A8\n",
        "\n",
        "Paklauskite ar norite pridėti naują įrašą į jūsų žodyną. Jei atsakymas \"taip\", paprašykite įvesti naują vardą ir naują ūgį. Pridekite šiuos duomenis į žodyną.\n",
        "\n",
        "Tuomet paklauskite ar norite pridėti dar vieną įrašą. Kartokite žodyno papildymą tol, kol pateiktas atsakymas bus \"taip\".\n",
        "\n",
        "Įvedus \"ne\", atspausdinkite žodyną taip kaip darėte ketvirtoje užduotyje.\n",
        "\n",
        "Pavyzdys:\n",
        "\n",
        "```\n",
        "Ar norite pridėti naują įrašą? (taip/ne): taip\n",
        "Įveskite vardą: Robert\n",
        "Įveskite ūgį: 2.74\n",
        "\n",
        "Ar norite pridėti naują įrašą? (taip/ne): taip\n",
        "Įveskite vardą: Chandra\n",
        "Įveskite ūgį: 0.55\n",
        "\n",
        "Ar norite pridėti naują įrašą? (taip/ne): ne\n",
        "\n",
        "Žodyno įrašai:\n",
        "vardas: Jonas, ūgis: 1.85\n",
        "vardas: Gabija, ūgis: 1.75\n",
        "vardas: Erika, ūgis: 1.60\n",
        "vardas: Robert, ūgis: 2.74\n",
        "vardas: Chandra, ūgis: 0.55\n",
        "```\n",
        "\n",
        "*Trivia: Robert Pershing Wadlow iš JAV ir Chandra Bahadur Dangi iš Nepalo buvo aukščiausias ir žemiausias pasaulio žmonės. Jie įrašyti į Gineso rekordų knygą.*"
      ]
    },
    {
      "cell_type": "code",
      "execution_count": 66,
      "id": "5936c3ba",
      "metadata": {
        "hidden": true,
        "id": "5936c3ba",
        "outputId": "b3ce04c4-ed54-4948-b5a8-4a5032e1c8df",
        "colab": {
          "base_uri": "https://localhost:8080/",
          "height": 425
        }
      },
      "outputs": [
        {
          "name": "stdout",
          "output_type": "stream",
          "text": [
            "Ar norite pridėti naują įrašą? (taip/ne): taip\n",
            "Įveskite vardą: Ieva\n",
            "Įveskite ūgį: 1.90\n",
            "Ar norite pridėti naują įrašą? (taip/ne): ne\n"
          ]
        },
        {
          "output_type": "error",
          "ename": "KeyboardInterrupt",
          "evalue": "Interrupted by user",
          "traceback": [
            "\u001b[0;31m---------------------------------------------------------------------------\u001b[0m",
            "\u001b[0;31mKeyboardInterrupt\u001b[0m                         Traceback (most recent call last)",
            "\u001b[0;32m/tmp/ipython-input-1950063410.py\u001b[0m in \u001b[0;36m<cell line: 0>\u001b[0;34m()\u001b[0m\n\u001b[1;32m      3\u001b[0m   \u001b[0minput\u001b[0m\u001b[0;34m(\u001b[0m\u001b[0;34m\"Ar norite pridėti naują įrašą? (taip/ne): \"\u001b[0m\u001b[0;34m)\u001b[0m\u001b[0;34m\u001b[0m\u001b[0;34m\u001b[0m\u001b[0m\n\u001b[1;32m      4\u001b[0m   \u001b[0;32mif\u001b[0m \u001b[0matsakymas\u001b[0m \u001b[0;34m==\u001b[0m \u001b[0;34m\"taip\"\u001b[0m\u001b[0;34m:\u001b[0m\u001b[0;34m\u001b[0m\u001b[0;34m\u001b[0m\u001b[0m\n\u001b[0;32m----> 5\u001b[0;31m     \u001b[0mvardai\u001b[0m\u001b[0;34m.\u001b[0m\u001b[0mappend\u001b[0m\u001b[0;34m(\u001b[0m\u001b[0minput\u001b[0m\u001b[0;34m(\u001b[0m\u001b[0;34m\"Įveskite vardą: \"\u001b[0m\u001b[0;34m)\u001b[0m\u001b[0;34m)\u001b[0m\u001b[0;34m\u001b[0m\u001b[0;34m\u001b[0m\u001b[0m\n\u001b[0m\u001b[1;32m      6\u001b[0m     \u001b[0mugiai\u001b[0m\u001b[0;34m.\u001b[0m\u001b[0mappend\u001b[0m\u001b[0;34m(\u001b[0m\u001b[0minput\u001b[0m\u001b[0;34m(\u001b[0m\u001b[0;34m\"Įveskite ūgį: \"\u001b[0m\u001b[0;34m)\u001b[0m\u001b[0;34m)\u001b[0m\u001b[0;34m\u001b[0m\u001b[0;34m\u001b[0m\u001b[0m\n\u001b[1;32m      7\u001b[0m   \u001b[0;32melse\u001b[0m\u001b[0;34m:\u001b[0m\u001b[0;34m\u001b[0m\u001b[0;34m\u001b[0m\u001b[0m\n",
            "\u001b[0;32m/usr/local/lib/python3.12/dist-packages/ipykernel/kernelbase.py\u001b[0m in \u001b[0;36mraw_input\u001b[0;34m(self, prompt)\u001b[0m\n\u001b[1;32m   1175\u001b[0m                 \u001b[0;34m\"raw_input was called, but this frontend does not support input requests.\"\u001b[0m\u001b[0;34m\u001b[0m\u001b[0;34m\u001b[0m\u001b[0m\n\u001b[1;32m   1176\u001b[0m             )\n\u001b[0;32m-> 1177\u001b[0;31m         return self._input_request(\n\u001b[0m\u001b[1;32m   1178\u001b[0m             \u001b[0mstr\u001b[0m\u001b[0;34m(\u001b[0m\u001b[0mprompt\u001b[0m\u001b[0;34m)\u001b[0m\u001b[0;34m,\u001b[0m\u001b[0;34m\u001b[0m\u001b[0;34m\u001b[0m\u001b[0m\n\u001b[1;32m   1179\u001b[0m             \u001b[0mself\u001b[0m\u001b[0;34m.\u001b[0m\u001b[0m_parent_ident\u001b[0m\u001b[0;34m[\u001b[0m\u001b[0;34m\"shell\"\u001b[0m\u001b[0;34m]\u001b[0m\u001b[0;34m,\u001b[0m\u001b[0;34m\u001b[0m\u001b[0;34m\u001b[0m\u001b[0m\n",
            "\u001b[0;32m/usr/local/lib/python3.12/dist-packages/ipykernel/kernelbase.py\u001b[0m in \u001b[0;36m_input_request\u001b[0;34m(self, prompt, ident, parent, password)\u001b[0m\n\u001b[1;32m   1217\u001b[0m             \u001b[0;32mexcept\u001b[0m \u001b[0mKeyboardInterrupt\u001b[0m\u001b[0;34m:\u001b[0m\u001b[0;34m\u001b[0m\u001b[0;34m\u001b[0m\u001b[0m\n\u001b[1;32m   1218\u001b[0m                 \u001b[0;31m# re-raise KeyboardInterrupt, to truncate traceback\u001b[0m\u001b[0;34m\u001b[0m\u001b[0;34m\u001b[0m\u001b[0m\n\u001b[0;32m-> 1219\u001b[0;31m                 \u001b[0;32mraise\u001b[0m \u001b[0mKeyboardInterrupt\u001b[0m\u001b[0;34m(\u001b[0m\u001b[0;34m\"Interrupted by user\"\u001b[0m\u001b[0;34m)\u001b[0m \u001b[0;32mfrom\u001b[0m \u001b[0;32mNone\u001b[0m\u001b[0;34m\u001b[0m\u001b[0;34m\u001b[0m\u001b[0m\n\u001b[0m\u001b[1;32m   1220\u001b[0m             \u001b[0;32mexcept\u001b[0m \u001b[0mException\u001b[0m\u001b[0;34m:\u001b[0m\u001b[0;34m\u001b[0m\u001b[0;34m\u001b[0m\u001b[0m\n\u001b[1;32m   1221\u001b[0m                 \u001b[0mself\u001b[0m\u001b[0;34m.\u001b[0m\u001b[0mlog\u001b[0m\u001b[0;34m.\u001b[0m\u001b[0mwarning\u001b[0m\u001b[0;34m(\u001b[0m\u001b[0;34m\"Invalid Message:\"\u001b[0m\u001b[0;34m,\u001b[0m \u001b[0mexc_info\u001b[0m\u001b[0;34m=\u001b[0m\u001b[0;32mTrue\u001b[0m\u001b[0;34m)\u001b[0m\u001b[0;34m\u001b[0m\u001b[0;34m\u001b[0m\u001b[0m\n",
            "\u001b[0;31mKeyboardInterrupt\u001b[0m: Interrupted by user"
          ]
        }
      ],
      "source": [
        "atsakymas == \"taip\"\n",
        "while atsakymas == \"taip\":\n",
        "  atsakymas = input(\"Ar norite pridėti naują įrašą? (taip/ne): \")\n",
        "  if atsakymas == \"taip\":\n",
        "    vardai.append(input(\"Įveskite vardą: \"))\n",
        "    ugiai.append(input(\"Įveskite ūgį: \"))\n",
        "  else:\n",
        "    break\n",
        "\n",
        ""
      ]
    },
    {
      "cell_type": "markdown",
      "source": [
        "A9 ir A10 užduotims atlikti, atsisiųskite šį kodą į kompiuterį kaip `.py` failą. Atsidarykite Windows Terminal langą, ir paleiskite failą pateikiant sisteminius argumentus pvz. `python failas.py 100`."
      ],
      "metadata": {
        "id": "M3Qd-8951b0x"
      },
      "id": "M3Qd-8951b0x"
    },
    {
      "cell_type": "markdown",
      "id": "3e200bab",
      "metadata": {
        "heading_collapsed": true,
        "jp-MarkdownHeadingCollapsed": true,
        "id": "3e200bab"
      },
      "source": [
        "### A9\n",
        "\n",
        "Importuokite ``sys`` modulį. Nuskaitykite Powershell komandinė eilutės argumentus. Argumentus atspausdinkite vienoje eilutėje, atskirdami juos kableliu.\n",
        "\n",
        "Pavyzdys:\n",
        "\n",
        "```\n",
        "> python p5.py arg1 arg2 arg3\n",
        "\n",
        "Pateikti argumentai: arg1, arg2, arg3\n",
        "```\n",
        "\n",
        "Užuomina: iteruoti praleidžiant pirmą sąrašo elementą, naudokite ``for i in sarasas[1:]``\n",
        "\n",
        "Išbandykite:\n",
        "\n",
        "```\n",
        "import sys\n",
        "\n",
        "print(sys.argv)\n",
        "\n",
        "python p5.py arg1 arg2 arg3\n",
        "```"
      ]
    },
    {
      "cell_type": "code",
      "execution_count": null,
      "id": "4f666dc0",
      "metadata": {
        "hidden": true,
        "id": "4f666dc0"
      },
      "outputs": [],
      "source": []
    },
    {
      "cell_type": "markdown",
      "id": "f2eb3981",
      "metadata": {
        "heading_collapsed": true,
        "jp-MarkdownHeadingCollapsed": true,
        "id": "f2eb3981"
      },
      "source": [
        "### A 10\n",
        "\n",
        "Parašykite kodą, kuris nuskaitytų Powershell komandinės eilutės argumentus - skaičius ir patikrintų ar šie skaičiai yra pirminiai.\n",
        "\n",
        "Pseudokodas patikrinti ar skaičius `x` yra pirminis:\n",
        "\n",
        "```\n",
        "pirminis = true # pradinė hipotezė\n",
        "iteruoti i nuo 2 iki x/2:\n",
        "    patikrinti ar x dalijasi iš i be liekanos:\n",
        "    \tjei dalijasi, pirminis = false ir nutraukti iteraciją (break)\n",
        "```\n",
        "\n",
        "Pavyzdys:\n",
        "\n",
        "```\n",
        "> python p5.py 1 2 3 4 5 6 7\n",
        "\n",
        "Iš pateiktųjų skaičių 2, 3, 5, 7 yra pirminiai.\n",
        "```\n",
        "\n",
        "Patobulinkite šios užduoties kodą taip, kad programa patikrintų ar buvo pateiktas bent vienas skaičius, ar nepateikta visiškai.\n",
        "\n",
        "Pavyzdys:\n",
        "\n",
        "```\n",
        "> python p5.py\n",
        "\n",
        "Skaičių nepateikta\n",
        "```"
      ]
    },
    {
      "cell_type": "code",
      "execution_count": null,
      "id": "0010acc7",
      "metadata": {
        "hidden": true,
        "id": "0010acc7"
      },
      "outputs": [],
      "source": []
    },
    {
      "cell_type": "markdown",
      "id": "1b300a24",
      "metadata": {
        "heading_collapsed": true,
        "jp-MarkdownHeadingCollapsed": true,
        "id": "1b300a24"
      },
      "source": [
        "### B1\n",
        "\n",
        "Parašykite \"kartuvių\" žaidimą.\n",
        "\n",
        "Jums pateikta kodo dalis, atrenkanti vieną atsitiktinį anglišką žodį.\n",
        "\n",
        "Žaidimo eiga ir taisyklės:\n",
        "\n",
        "1) Pateikiam atrinkto žodžio \"paslėptą\" reprezentaciją. Pvz. jei žodis \"one\" pateikiam _ _ _ arba *** arba ### arba dar kažkaip.\n",
        "2) Spėliojant raides galima suklysti 10 kartų. Jei raidė yra, ją atidengiam (taip pat visus raidės pasikartojimus), pvz. spėjant `n` galėtume atidengti _ n _.\n",
        "3) Reikia sekti kokios raidės jau spėtos, ir perspėti, kad tokia raidė jau buvo spėta, jeigu pakartojame buvusį spėjimą.\n",
        "4) Spėti žodį galima vieną kartą. Atspėjus - žaidimas laimėtas, neatspėjus - pralaimėtas.\n",
        "5) Naudokite tik mažasias raides.\n",
        "6) Jei atidengiamos visos raidės nepasiekus 10 nesėkmingų bandymų - žaidimas laimimas."
      ]
    },
    {
      "cell_type": "code",
      "execution_count": null,
      "id": "fd01bf88",
      "metadata": {
        "hidden": true,
        "id": "fd01bf88"
      },
      "outputs": [],
      "source": [
        "import requests\n",
        "import random\n",
        "# Kodas kuris iš interneto atsiunčia, ir parenka vieną atsitiktinį anglišką žodį turintį daugiau nei 2 raides.\n",
        "# URL for a list of the 10,000 most common English words\n",
        "url = 'https://raw.githubusercontent.com/first20hours/google-10000-english/master/google-10000-english.txt'\n",
        "response = requests.get(url)\n",
        "common_words_list = response.text.splitlines()\n",
        "common_words_list = [word for word in common_words_list if len(word) > 2]\n",
        "\n",
        "zodis = random.choice(common_words_list)\n",
        "\n",
        "# Jūsų kodas toliau:\n",
        "\n"
      ]
    },
    {
      "cell_type": "markdown",
      "id": "0d3e1f2b",
      "metadata": {
        "id": "0d3e1f2b"
      },
      "source": [
        "## Sandbox"
      ]
    },
    {
      "cell_type": "code",
      "execution_count": null,
      "id": "604147f0",
      "metadata": {
        "id": "604147f0"
      },
      "outputs": [],
      "source": []
    },
    {
      "cell_type": "markdown",
      "id": "45ec25b9",
      "metadata": {
        "id": "45ec25b9"
      },
      "source": [
        "---"
      ]
    }
  ],
  "metadata": {
    "kernelspec": {
      "display_name": "Python 3",
      "name": "python3"
    },
    "language_info": {
      "codemirror_mode": {
        "name": "ipython",
        "version": 3
      },
      "file_extension": ".py",
      "mimetype": "text/x-python",
      "name": "python",
      "nbconvert_exporter": "python",
      "pygments_lexer": "ipython3",
      "version": "3.11.7"
    },
    "latex_envs": {
      "LaTeX_envs_menu_present": true,
      "autoclose": false,
      "autocomplete": true,
      "bibliofile": "biblio.bib",
      "cite_by": "apalike",
      "current_citInitial": 1,
      "eqLabelWithNumbers": true,
      "eqNumInitial": 1,
      "hotkeys": {
        "equation": "Ctrl-E",
        "itemize": "Ctrl-I"
      },
      "labels_anchors": false,
      "latex_user_defs": false,
      "report_style_numbering": false,
      "user_envs_cfg": false
    },
    "colab": {
      "provenance": [],
      "generative_ai_disabled": true
    }
  },
  "nbformat": 4,
  "nbformat_minor": 5
}