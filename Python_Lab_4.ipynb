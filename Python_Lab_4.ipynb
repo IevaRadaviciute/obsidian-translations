{
  "cells": [
    {
      "cell_type": "markdown",
      "id": "9661feed",
      "metadata": {
        "id": "9661feed"
      },
      "source": [
        "## Programavimo įvado pratybos\n",
        "\n",
        "- Python komandoms prisiminti: ``https://www.w3schools.com/python/``\n",
        "- Komentarai: #\n",
        "- Naudingos Powershell komandos:\n",
        "\n",
        "    - `ls` - pažiūrėti katalogo turinį\n",
        "\n",
        "    - `md` - sukurti naują katalogą\n",
        "\n",
        "    - `cd` - pereiti į katalogą / iš katalogo\n",
        "\n",
        "    - `ni p4.py` - sukuria naują bylą vardu `p4.py`\n",
        "\n",
        "    - `python p4.py` - kompiliuoja Python programą"
      ]
    },
    {
      "cell_type": "markdown",
      "source": [
        "Programose dažnai naudojamos sąlygos, pvz. ar atidarytas failas nėra tuščias, ar kažkoks nuskaitytas skaičius tenkina mūsų sąlygą ir pan. Toks patikrinimas visuomet atliekamas `if / else` pagalba (jeigu / arba)."
      ],
      "metadata": {
        "id": "KFh4tcit3B5M"
      },
      "id": "KFh4tcit3B5M"
    },
    {
      "cell_type": "code",
      "source": [
        "skaicius = 0\n",
        "\n",
        "if skaicius > 0:\n",
        "  print (f\"Skaicius {skaicius} yra teigiamas\")\n",
        "elif skaicius == 0:\n",
        "    print (f\"Skaičius lygus 0\")\n",
        "else:\n",
        "  print (f\"Skaicius {skaicius} yra neigiamas\")"
      ],
      "metadata": {
        "id": "yksjRilr3U8k",
        "outputId": "934fdc35-0844-4d08-8170-1418df2ce706",
        "colab": {
          "base_uri": "https://localhost:8080/"
        }
      },
      "id": "yksjRilr3U8k",
      "execution_count": 8,
      "outputs": [
        {
          "output_type": "stream",
          "name": "stdout",
          "text": [
            "Skaičius lygus 0\n"
          ]
        }
      ]
    },
    {
      "cell_type": "markdown",
      "source": [
        "Pabandykite viršuje esančiame kode įvesti, kad skaičius lygus 0. Jis įvertinamas kaip neigiamas, nes 0 nėra daugiau už 0."
      ],
      "metadata": {
        "id": "wFJR8u8O6wl3"
      },
      "id": "wFJR8u8O6wl3"
    },
    {
      "cell_type": "markdown",
      "source": [
        "Papildomas sąlygas galime pridėti `elif` komanda. Pirma patikrinama ar skaičius lygus nuliui - jei taip - tai nėra nei teigiamas, nei neigiamas. Jei skaičius nėra lygus nuliui, einame prie kitos sąlygos - ar jis daugiau už nulį, jei taip - jis yra teigiamas, jei ne (`else`) jis yra neigiamas.\n",
        "\n",
        "`else` kodas vykdomas tik tuo atveju, jeigu netenkinama jokia aukščiau pateikta sąlyga."
      ],
      "metadata": {
        "id": "87MwB3nu6COH"
      },
      "id": "87MwB3nu6COH"
    },
    {
      "cell_type": "code",
      "source": [
        "skaicius = int(input(\"Iveskite skaiciu: \"))\n",
        "\n",
        "if skaicius == 0:\n",
        "  print (f\"Skaicius {skaicius} nera nei teigiamas nei neigiamas\")\n",
        "elif skaicius > 0:\n",
        "  print (f\"Skaicius {skaicius} yra teigiamas\")\n",
        "else:\n",
        "  print (f\"Skaicius {skaicius} yra neigiamas\")"
      ],
      "metadata": {
        "id": "qKikD_gc6OAa",
        "colab": {
          "base_uri": "https://localhost:8080/"
        },
        "outputId": "b13dd2c4-4ea1-45d5-fc5c-0410f0511ccb"
      },
      "id": "qKikD_gc6OAa",
      "execution_count": 10,
      "outputs": [
        {
          "output_type": "stream",
          "name": "stdout",
          "text": [
            "Iveskite skaiciu: -8\n",
            "Skaicius -8 yra neigiamas\n"
          ]
        }
      ]
    },
    {
      "cell_type": "markdown",
      "source": [
        "Taip galime tikrinti betkokį kintamąjį. Pvz. ar kažkoks žodis yra tekste, ar kažkoks įrašas žodyne ir pan."
      ],
      "metadata": {
        "id": "ZEsqDzIy7mbz"
      },
      "id": "ZEsqDzIy7mbz"
    },
    {
      "cell_type": "code",
      "source": [
        "tekstas = \"Programa visuomet darys tai, ka jus jai liepsite, bet nebutinai tai, ko jus norite.\"\n",
        "\n",
        "if \"Programa\" in tekstas:\n",
        "  print (\"Tekste yra žodis 'Programa'\")"
      ],
      "metadata": {
        "id": "Ii6OuYi78U2N",
        "colab": {
          "base_uri": "https://localhost:8080/"
        },
        "outputId": "6d2158f5-de16-4ee7-d348-536eadca7621"
      },
      "id": "Ii6OuYi78U2N",
      "execution_count": 11,
      "outputs": [
        {
          "output_type": "stream",
          "name": "stdout",
          "text": [
            "Tekste yra žodis 'Programa'\n"
          ]
        }
      ]
    },
    {
      "cell_type": "code",
      "source": [
        "studentai = [\"Alisa\", \"Benas\", \"Darius\", \"Emilija\"]\n",
        "\n",
        "vardas = input (\"Koks jūsų vardas? \")\n",
        "studentai.append(vardas)\n",
        "if vardas in studentai:\n",
        "  print (f\"{vardas} tikrai yra šioje grupėje\")\n",
        "else:\n",
        "  print (f\"Studento vardu {vardas} šioje grupėje nėra\")\n",
        "print (\"Naujajame saraše yra: \", studentai[0:])"
      ],
      "metadata": {
        "id": "FzbqyxxD8tIR",
        "colab": {
          "base_uri": "https://localhost:8080/"
        },
        "outputId": "5037d40c-5744-4d56-8d25-345ceec31ef1"
      },
      "id": "FzbqyxxD8tIR",
      "execution_count": 15,
      "outputs": [
        {
          "output_type": "stream",
          "name": "stdout",
          "text": [
            "Koks jūsų vardas? Ieva\n",
            "Ieva tikrai yra šioje grupėje\n",
            "Naujajame saraše yra:  ['Alisa', 'Benas', 'Darius', 'Emilija', 'Ieva']\n"
          ]
        }
      ]
    },
    {
      "cell_type": "markdown",
      "source": [
        "Patobulinkite kodą viršuje, pridėdami į sąrašą įvestą vardą, jeigu jo jame nebuvo, ir atspausdinkite naująjį sąrašą. Pasinaudokite `.append()` metodu."
      ],
      "metadata": {
        "id": "Q_09221F9Pau"
      },
      "id": "Q_09221F9Pau"
    },
    {
      "cell_type": "markdown",
      "source": [
        "`for` ciklas naudojamas atlikti kažkokį veiksmą kiekvienam imties nariui."
      ],
      "metadata": {
        "id": "JJvm8nDcA1rU"
      },
      "id": "JJvm8nDcA1rU"
    },
    {
      "cell_type": "code",
      "source": [
        "numbers = [1, 2, 3, 4, 5, 6, 7, 8, 9]\n",
        "\n",
        "for num in numbers:\n",
        "  kvadratas = num**2\n",
        "  print (f\"Skaicius {num} kvadratu yra {kvadratas}\")"
      ],
      "metadata": {
        "id": "GStq-b97g0I-",
        "colab": {
          "base_uri": "https://localhost:8080/"
        },
        "outputId": "34265464-5652-453b-9237-ef9d01d8450a"
      },
      "id": "GStq-b97g0I-",
      "execution_count": 16,
      "outputs": [
        {
          "output_type": "stream",
          "name": "stdout",
          "text": [
            "Skaicius 1 kvadratu yra 1\n",
            "Skaicius 2 kvadratu yra 4\n",
            "Skaicius 3 kvadratu yra 9\n",
            "Skaicius 4 kvadratu yra 16\n",
            "Skaicius 5 kvadratu yra 25\n",
            "Skaicius 6 kvadratu yra 36\n",
            "Skaicius 7 kvadratu yra 49\n",
            "Skaicius 8 kvadratu yra 64\n",
            "Skaicius 9 kvadratu yra 81\n"
          ]
        }
      ]
    },
    {
      "cell_type": "markdown",
      "source": [
        "Iteruojamas objektas nebutinai turi būti sąrašas."
      ],
      "metadata": {
        "id": "UD0rnmOmhPf6"
      },
      "id": "UD0rnmOmhPf6"
    },
    {
      "cell_type": "code",
      "source": [
        "team = \"Gargždų banga\"\n",
        "\n",
        "for letter in team:\n",
        "  print(f\"Give me a {letter.upper()}\")\n",
        "print (f\"{team.upper()}\")"
      ],
      "metadata": {
        "id": "EJC0mtCChUbK",
        "colab": {
          "base_uri": "https://localhost:8080/"
        },
        "outputId": "ae87b030-a5c2-44ba-a4f4-07e77890c14e"
      },
      "id": "EJC0mtCChUbK",
      "execution_count": 17,
      "outputs": [
        {
          "output_type": "stream",
          "name": "stdout",
          "text": [
            "Give me a G\n",
            "Give me a A\n",
            "Give me a R\n",
            "Give me a G\n",
            "Give me a Ž\n",
            "Give me a D\n",
            "Give me a Ų\n",
            "Give me a  \n",
            "Give me a B\n",
            "Give me a A\n",
            "Give me a N\n",
            "Give me a G\n",
            "Give me a A\n",
            "GARGŽDŲ BANGA\n"
          ]
        }
      ]
    },
    {
      "cell_type": "markdown",
      "source": [
        "______________________________________________________________________________"
      ],
      "metadata": {
        "id": "YdkxzwFXAxqU"
      },
      "id": "YdkxzwFXAxqU"
    },
    {
      "cell_type": "markdown",
      "id": "b7591613",
      "metadata": {
        "id": "b7591613"
      },
      "source": [
        "## A užduotis"
      ]
    },
    {
      "cell_type": "markdown",
      "id": "3f5df523",
      "metadata": {
        "heading_collapsed": true,
        "id": "3f5df523"
      },
      "source": [
        "### A1\n",
        "\n",
        "Paprašykite įvesti žodį turintį ne mažiau nei 10 raidžių. Patikrinkite, ar įvestas žodis turi bent dešimt raidžių. Jeigu raidžių mažiau nei 10, parašykite, kad įvestas žodis neatitinka reikalavimo.\n",
        "\n",
        "Pavyzdžiui, įvedus žodį “Integralas”, programa turi atspausdinti “Žodyje 'Integralas' yra nemažiau nei 10 raidžių”."
      ]
    },
    {
      "cell_type": "code",
      "execution_count": 77,
      "id": "8aeef7a1",
      "metadata": {
        "hidden": true,
        "id": "8aeef7a1",
        "colab": {
          "base_uri": "https://localhost:8080/"
        },
        "outputId": "f41c615c-2213-4069-f21f-e7ba7506f524"
      },
      "outputs": [
        {
          "output_type": "stream",
          "name": "stdout",
          "text": [
            "Įveskite ne trumpesnį, nei 10 raidžių, žodį: Integravimas\n",
            "Žodyje 'Integravimas' yra ne mažiau, nei 10 raidžių.\n",
            "Žodyje yra 12 raidziu\n"
          ]
        }
      ],
      "source": [
        "zodis = input (\"Įveskite ne trumpesnį, nei 10 raidžių, žodį: \")\n",
        "raidziu_skaicius = 0;\n",
        "for letter in zodis:\n",
        "  raidziu_skaicius = raidziu_skaicius + 1\n",
        "\n",
        "if raidziu_skaicius >= 10:\n",
        "  print (f\"Žodyje '{zodis}' yra ne mažiau, nei 10 raidžių.\")\n",
        "else:\n",
        "  print (f\"Žodyje '{zodis}' yra mažiau, nei 10 raidžių\")\n",
        "\n"
      ]
    },
    {
      "cell_type": "markdown",
      "id": "74007c71",
      "metadata": {
        "heading_collapsed": true,
        "id": "74007c71"
      },
      "source": [
        "### A2\n",
        "\n",
        "Išskaidykite žodį į sąrašą (list) ir atspausdinkite kiekvieną sąrašo elementą su tarpais vienoje eilutėje panaudodami for ciklą.\n",
        "\n",
        "Pavyzdžiui, 1-oje užduotyje įvedus žodį “Integralas”, programa turi atspausdinti “I n t e g r a l a s”.\n",
        "\n",
        "Užuomina. Išbandykite ``print('Jonas', end=' ')`` ir ``print('Jonas', end='\\n')``"
      ]
    },
    {
      "cell_type": "code",
      "execution_count": 67,
      "id": "7530fc89",
      "metadata": {
        "hidden": true,
        "id": "7530fc89",
        "colab": {
          "base_uri": "https://localhost:8080/"
        },
        "outputId": "6e43c301-4672-4340-b375-8b211fd55661"
      },
      "outputs": [
        {
          "output_type": "stream",
          "name": "stdout",
          "text": [
            "I n t e g r a v i m a s "
          ]
        }
      ],
      "source": [
        "raides = []\n",
        "\n",
        "for letter in zodis:\n",
        "  raides.append(letter)\n",
        "  print(letter, end=\" \")\n",
        "\n"
      ]
    },
    {
      "cell_type": "markdown",
      "id": "9edec4d2",
      "metadata": {
        "heading_collapsed": true,
        "id": "9edec4d2"
      },
      "source": [
        "### A3\n",
        "\n",
        "Paprašykite įvesti skaičių (`kuris turi atitikti prieš tai įvesto žodžio raidžių skaičių) ir raidę. Tada pakeiskite 2-os užduoties sąrašo x-tąjį elementą duotąja raide.\n",
        "\n",
        "Pavyzdžiui, jei sąrašas yra [\"I\",\"n\",\"t\",\"e\",\"g\",\"r\",\"a\",\"l\",\"a\",\"s\"], įvedus 3 ir “W”, programa turi atspausdinti “InWegralas”.\n",
        "\n",
        "Užuomina. Pirmiausia turite suskaičiuoti kiek žodyje/sąraše raidžių, ir gautą vertę pateikti užklausoje. Pvz. \"Pateiktame sąraše yra X raidžių. Kurią raidę norite pakeisti?\"."
      ]
    },
    {
      "cell_type": "code",
      "execution_count": 75,
      "id": "e03a2512",
      "metadata": {
        "hidden": true,
        "id": "e03a2512",
        "colab": {
          "base_uri": "https://localhost:8080/"
        },
        "outputId": "9ee0bc63-1e12-4b83-c504-2164ad5fc690"
      },
      "outputs": [
        {
          "output_type": "stream",
          "name": "stdout",
          "text": [
            "Pateiktame sąraše raidžių yra 12. Kurią raidę norite pakeisti?: 1\n",
            "Įveskite raidę: X\n",
            "Xntegravimas"
          ]
        }
      ],
      "source": [
        "naujas_skaicius = int(input(f\"Pateiktame sąraše raidžių yra {raidziu_skaicius}. Kurią raidę norite pakeisti?: \"))\n",
        "nauja_raide = input(f\"Įveskite raidę: \")\n",
        "raides_numeris = 0\n",
        "\n",
        "while raides_numeris <= raidziu_skaicius :\n",
        "  if raides_numeris + 1 == naujas_skaicius:\n",
        "    raides[raides_numeris] = nauja_raide\n",
        "  raides_numeris = raides_numeris + 1\n",
        "for letter in raides:\n",
        "  print(letter, end=\"\")\n"
      ]
    },
    {
      "cell_type": "markdown",
      "id": "a38924b4",
      "metadata": {
        "heading_collapsed": true,
        "id": "a38924b4"
      },
      "source": [
        "### A4\n",
        "\n",
        "Sujunkite 3-ioje užduotyje gauto sąrašo elementus į žodį atskirdami raides brūkšneliu (ar kokiu kitu simboliu). Rezultatą atspausdinkite.\n",
        "\n",
        "Pavyzdžiui, jei sąrašas yra [\"I\",\"n\",\"W\",\"e\",\"g\",\"r\",\"a\",\"l\",\"a\",\"s\"], programa turi atspausdinti “I-n-W-e-g-r-a-l-a-s”.\n",
        "\n",
        "Užuomina. Naudokite .join() metodą."
      ]
    },
    {
      "cell_type": "code",
      "execution_count": 89,
      "id": "48891221",
      "metadata": {
        "hidden": true,
        "id": "48891221",
        "colab": {
          "base_uri": "https://localhost:8080/"
        },
        "outputId": "ae165480-7f1c-41b7-a2d0-78f496407aad"
      },
      "outputs": [
        {
          "output_type": "stream",
          "name": "stdout",
          "text": [
            "X-n-t-e-g-r-a-v-i-m-a-s\n"
          ]
        }
      ],
      "source": [
        "raides_numeris = 0\n",
        "\n",
        "pakeistas_zodis = \"-\".join(raides)\n",
        "print(pakeistas_zodis)\n",
        "\n",
        "\n",
        "# while raides_numeris < raidziu_skaicius - 1:\n",
        "#   print(raides[raides_numeris], end=\"-\")\n",
        "#   raides_numeris = raides_numeris + 1\n",
        "# print(raides[raidziu_skaicius-1])\n"
      ]
    },
    {
      "cell_type": "markdown",
      "id": "86784548",
      "metadata": {
        "heading_collapsed": true,
        "id": "86784548"
      },
      "source": [
        "### A5\n",
        "\n",
        "Suraskite visus skaičius nuo 1 iki n kurie dalijasi iš 3 ir iš 4 (n yra vartotojo įvestas skaičius).\n",
        "\n",
        "Sudėkite surastus skaičius į atskirą sąrašą (`list`).  \n",
        "\n",
        "Išbandykite šitą kodą:"
      ]
    },
    {
      "cell_type": "code",
      "source": [
        "sarasas_a = []\n",
        "\n",
        "n = int(input(f\"Įveskite norimą skaičių: \"))\n",
        "for i in range(1, n+1):\n",
        "  if i % 3 == 0 and i % 4 == 0:\n",
        "    sarasas_a.append(i)\n",
        "print(sarasas_a)\n"
      ],
      "metadata": {
        "id": "5JdgtYGlABj2",
        "colab": {
          "base_uri": "https://localhost:8080/"
        },
        "outputId": "6ac88e67-2fd6-4994-ef35-3b0857273d68"
      },
      "id": "5JdgtYGlABj2",
      "execution_count": 112,
      "outputs": [
        {
          "output_type": "stream",
          "name": "stdout",
          "text": [
            "Įveskite norimą skaičių: 12\n",
            "[12]\n"
          ]
        }
      ]
    },
    {
      "cell_type": "markdown",
      "id": "5465b090",
      "metadata": {
        "heading_collapsed": true,
        "id": "5465b090"
      },
      "source": [
        "### A6\n",
        "\n",
        "Raskite pirmuosius n (vartotojo įvestas skaičius) geometrinės progresijos narių, kai pradinis narys yra 1, o daugiklis yra 2:\n",
        "\n",
        "1, 2, 4, 8, 16, 32, 64, ...\n",
        "\n",
        "Sudėkite juos į sąrašą ir atspausdinkite."
      ]
    },
    {
      "cell_type": "code",
      "execution_count": 116,
      "id": "f5708372",
      "metadata": {
        "hidden": true,
        "id": "f5708372",
        "colab": {
          "base_uri": "https://localhost:8080/"
        },
        "outputId": "23fd28e9-abd7-4f4d-b234-87d5dc2caf7c"
      },
      "outputs": [
        {
          "output_type": "stream",
          "name": "stdout",
          "text": [
            "Kiek geometrinės progresijos narių norite sužinoti?: 5\n",
            "[1, 2, 4, 8, 16]\n"
          ]
        }
      ],
      "source": [
        "n_1 = int(input(\"Kiek geometrinės progresijos narių norite sužinoti?: \"))\n",
        "\n",
        "geometrine_progresija = [0]*n_1\n",
        "geometrine_progresija[0] = 1\n",
        "for j in range(1, n_1):\n",
        "  geometrine_progresija[j] = geometrine_progresija [j-1] * 2\n",
        "\n",
        "print(geometrine_progresija)\n",
        "\n",
        "\n",
        "\n"
      ]
    },
    {
      "cell_type": "markdown",
      "id": "3e200bab",
      "metadata": {
        "heading_collapsed": true,
        "id": "3e200bab"
      },
      "source": [
        "### A7\n",
        "\n",
        "Susumuokite 6-oje užduotyje surastus geometrinės progresijos narius pasinaudodami `for` ciklu. Rezultatą atspausdinkite."
      ]
    },
    {
      "cell_type": "code",
      "execution_count": 119,
      "id": "4f666dc0",
      "metadata": {
        "hidden": true,
        "id": "4f666dc0",
        "colab": {
          "base_uri": "https://localhost:8080/"
        },
        "outputId": "ef02b0e7-8fc7-45cc-aa34-82c709c92f7f"
      },
      "outputs": [
        {
          "output_type": "stream",
          "name": "stdout",
          "text": [
            "31\n"
          ]
        }
      ],
      "source": [
        "suma = 0\n",
        "for k in range(n_1):\n",
        "  suma = suma + geometrine_progresija[k]\n",
        "\n",
        "print (suma)"
      ]
    },
    {
      "cell_type": "markdown",
      "id": "f2eb3981",
      "metadata": {
        "heading_collapsed": true,
        "id": "f2eb3981"
      },
      "source": [
        "### A8\n",
        "\n",
        "Paprašykite įvesti sakinį sudarytą iš ne mažiau nei trijų žodžių. Suskaičiuokite:  \n",
        "\n",
        "    a) kiek žodžių yra sakinyje,\n",
        "    b) kiek balsių yra sakinyje,\n",
        "    c) kiek priebalsių yra sakinyje.\n",
        "\n",
        "Gautus rezultatus atspausdinkite kartu su paaiškinimais.\n",
        "\n",
        "*Užuomina.* Išbandykite šitą kodą:\n"
      ]
    },
    {
      "cell_type": "code",
      "source": [
        "skaiciai = \"1234567890\"\n",
        "zodis = input(\"Įveskite žodį sudarytą iš raidžių ir skaičių: \")\n",
        "for x in skaiciai:\n",
        "\tif x in zodis:\n",
        "\t\tprint(f\"skaičius {x} yra jūsų žodyje\")"
      ],
      "metadata": {
        "id": "pUU2wwqL_9cT",
        "colab": {
          "base_uri": "https://localhost:8080/"
        },
        "outputId": "f1cc4146-5687-441f-c4d1-de2eb2570d2d"
      },
      "id": "pUU2wwqL_9cT",
      "execution_count": 120,
      "outputs": [
        {
          "output_type": "stream",
          "name": "stdout",
          "text": [
            "Įveskite žodį sudarytą iš raidžių ir skaičių: Laba5\n",
            "skaičius 5 yra jūsų žodyje\n"
          ]
        }
      ]
    },
    {
      "cell_type": "code",
      "execution_count": 127,
      "id": "dda2ee88",
      "metadata": {
        "hidden": true,
        "id": "dda2ee88",
        "colab": {
          "base_uri": "https://localhost:8080/"
        },
        "outputId": "3e71197c-5ce0-4aee-a184-111f044e2c89"
      },
      "outputs": [
        {
          "output_type": "stream",
          "name": "stdout",
          "text": [
            "Iveskite sakinį, ne trumpesnį, nei 3 žodžiai: Labas rytas suraitytas\n",
            "['Labas', 'rytas', 'suraitytas']\n",
            "3\n"
          ]
        }
      ],
      "source": [
        "sakinys = input(\"Iveskite sakinį, ne trumpesnį, nei 3 žodžiai: \")\n",
        "balses = \"aąeęėiįyouųū\"\n",
        "priebalses = \"qwrtpsšdfghjklzžxcčvbnm\"\n",
        "\n",
        "\n",
        "sarasas = list(sakinys)\n",
        "zodziai_sakinyje = sakinys.split(\" \")   # sukarpau sakinį į žodžius\n",
        "zodziu_sarasas = list(zodziai_sakinyje)\n",
        "\n",
        "zodziu_skaicius = int(len(zodziu_sarasas))\n",
        "\n",
        "for raide in sakinys:\n",
        "  if\n",
        "\n",
        "\n",
        "print(zodziu_sarasas, sep=\" \")\n",
        "\n",
        "\n",
        "\n",
        "#Jūsų kodas toliau:\n"
      ]
    },
    {
      "cell_type": "markdown",
      "id": "10e48411",
      "metadata": {
        "heading_collapsed": true,
        "id": "10e48411"
      },
      "source": [
        "### A9\n",
        "\n",
        "Raskite matavimų sąrašo:\n",
        "\n",
        "    a) vidurkį,\n",
        "    b) medianą,  \n",
        "    c) standartinį nuokrypį,\n",
        "\n",
        "Gautus rezultatus atspausdinkite kartu su paaiškinimais. Nenaudokite integruotų Python funkcijų.\n",
        "\n",
        "Priminimas:\n",
        "\n",
        "$\\sigma_x = \\sqrt{\\dfrac{\\sum_i (x_i - \\bar x)^2}{n}}\\quad$  kur  $\\quad\\bar x = \\dfrac1n \\sum_i x_i $"
      ]
    },
    {
      "cell_type": "code",
      "execution_count": null,
      "id": "30339081",
      "metadata": {
        "hidden": true,
        "id": "30339081"
      },
      "outputs": [],
      "source": [
        "matavimai = [17.5, 18.7, 18.8, 20.4, 23.4, 19.7, 16.0, 16.6, 16.7, 17.4, 18.9, 21.1, 21.4, 21.9, 23.8, 24.3, 23.8, 24.6, 24.3, 19.8, 19.8, 22.1, 23.4, 24.6, 23.8, 20.3, 23.9, 22.4, 21.3, 17.7, 14.4]\n",
        "\n",
        "# Jūsų kodas toliau:\n"
      ]
    },
    {
      "cell_type": "markdown",
      "source": [
        "### A10\n",
        "\n",
        "Jums pateiktas sąrašas vardų (pavadinkime juos studentais).\n",
        "\n",
        "Parašykite programą, kuri pasinaudodama `for` ciklu, paprašo įvesti egzamino pažymį kiekvienam iš studentų, pvz. \"Kokį pažymį gavo Alisa? \"\n",
        "\n",
        "Raskite didžiausią ir mažiausią pažymius bei pažymių vidurkį. Suskaičiuokite kiek studentų egzaminą išlaikė, kiek ne (išlaikymo balas yra 5).\n",
        "\n",
        "Užuomina: Pažymius surašykite į naują susikurtą sąrašą."
      ],
      "metadata": {
        "id": "AZMLp6BhnULV"
      },
      "id": "AZMLp6BhnULV"
    },
    {
      "cell_type": "code",
      "source": [
        "studentai = [\"Alisa\", \"Benas\", \"Cezaris\", \"Darius\", \"Eglė\", \"Gabrielė\", \"Henrieta\", \"Ignas\", \"Jonas\", \"Kamilė\", \"Laura\", \"Matas\", \"Nojus\"]\n",
        "\n",
        "#Jūsų kodas toliau:\n"
      ],
      "metadata": {
        "id": "XL9TsG1Zn_TL"
      },
      "id": "XL9TsG1Zn_TL",
      "execution_count": null,
      "outputs": []
    },
    {
      "cell_type": "markdown",
      "id": "4273a46e",
      "metadata": {
        "id": "4273a46e"
      },
      "source": [
        "## B užduotis"
      ]
    },
    {
      "cell_type": "markdown",
      "id": "1b300a24",
      "metadata": {
        "heading_collapsed": true,
        "id": "1b300a24"
      },
      "source": [
        "### B1\n",
        "\n",
        "Raskite pirmuosius 20 Fibonači sekos narių:  \n",
        "\n",
        "0, 1, 1, 2, 3, 5, 8, 13, 21, 34, 55, 89, 144, ...\n",
        "\n",
        "Sudėkite juos į sąrašą ir atspausdinkite kartu su paaiškinimu.\n",
        "\n",
        "Paaiškinimas. Fibonačio sekos kiekvienas narys lygus prieš jį buvusių dviejų narių sumai."
      ]
    },
    {
      "cell_type": "code",
      "execution_count": null,
      "id": "bb226513",
      "metadata": {
        "hidden": true,
        "id": "bb226513"
      },
      "outputs": [],
      "source": []
    },
    {
      "cell_type": "markdown",
      "id": "5f6bf0f3",
      "metadata": {
        "heading_collapsed": true,
        "id": "5f6bf0f3"
      },
      "source": [
        "### B2\n",
        "\n",
        "Skaičiaus $\\pi$ vertę galima apskaičiuoti pasinaudojant Nilakantha seka:\n",
        "\n",
        "$\n",
        "\\pi = 3 + \\dfrac{4}{2\\times3\\times4} -  \\dfrac{4}{4\\times5\\times6} +  \\dfrac{4}{6\\times7\\times8} - \\dfrac{4}{8\\times9\\times10} + \\ldots\n",
        "$\n",
        "\n",
        "Apskaičiuokite $\\pi$ vertę susumuodami:\n",
        "\n",
        "- pirmus 10 sekos narių,\n",
        "- pirmus 100 sekos narių,\n",
        "- pirmus 10000 sekos narių.\n",
        "\n",
        "\n",
        "Rezultatus atspausdinkite."
      ]
    },
    {
      "cell_type": "code",
      "execution_count": null,
      "id": "def1b4f5",
      "metadata": {
        "hidden": true,
        "id": "def1b4f5"
      },
      "outputs": [],
      "source": []
    },
    {
      "cell_type": "markdown",
      "id": "0d3e1f2b",
      "metadata": {
        "heading_collapsed": true,
        "id": "0d3e1f2b"
      },
      "source": [
        "## Sandbox"
      ]
    },
    {
      "cell_type": "code",
      "execution_count": null,
      "id": "604147f0",
      "metadata": {
        "hidden": true,
        "id": "604147f0"
      },
      "outputs": [],
      "source": []
    }
  ],
  "metadata": {
    "kernelspec": {
      "display_name": "Python 3",
      "name": "python3"
    },
    "language_info": {
      "codemirror_mode": {
        "name": "ipython",
        "version": 3
      },
      "file_extension": ".py",
      "mimetype": "text/x-python",
      "name": "python",
      "nbconvert_exporter": "python",
      "pygments_lexer": "ipython3",
      "version": "3.11.7"
    },
    "latex_envs": {
      "LaTeX_envs_menu_present": true,
      "autoclose": false,
      "autocomplete": true,
      "bibliofile": "biblio.bib",
      "cite_by": "apalike",
      "current_citInitial": 1,
      "eqLabelWithNumbers": true,
      "eqNumInitial": 1,
      "hotkeys": {
        "equation": "Ctrl-E",
        "itemize": "Ctrl-I"
      },
      "labels_anchors": false,
      "latex_user_defs": false,
      "report_style_numbering": false,
      "user_envs_cfg": false
    },
    "colab": {
      "provenance": [],
      "generative_ai_disabled": true
    }
  },
  "nbformat": 4,
  "nbformat_minor": 5
}