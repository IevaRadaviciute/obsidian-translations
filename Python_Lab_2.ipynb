{
  "cells": [
    {
      "cell_type": "markdown",
      "id": "c6356b94",
      "metadata": {
        "id": "c6356b94"
      },
      "source": [
        "## Programavimo įvado pratybos\n",
        "\n",
        "Prisijungimas ir užduotys:\n",
        "\n",
        "- Python komandoms prisiminti: ``https://www.w3schools.com/python/``\n",
        "- Komentarai: #\n",
        "- Naudingos PowerShell/Terminal komandos:\n",
        "\n",
        "    - `ls` - pažiūrėti katalogo turinį\n",
        "\n",
        "    - `md` - sukurti naują katalogą\n",
        "\n",
        "    - `cd` - pereiti į katalogą / iš katalogo\n",
        "\n",
        "    - `ni p1.py` - sukuria naują bylą vardu `p1.py`\n",
        "\n",
        "    - `python p1.py` - kompiliuoja Python programą\n",
        "   \n",
        "- Elementarūs matematiniai veiksmai Python:\n",
        "\n",
        "    - `2*3` - daugyba\n",
        "    - `2/3` - dalyba\n",
        "    - `2**3` - kėlimas laipsniu\n",
        "    - `2**(1/2)` - šaknies traukimas"
      ]
    },
    {
      "cell_type": "markdown",
      "source": [
        "Rezultato atvaizdavimui naudojame funkciją `print()`"
      ],
      "metadata": {
        "id": "tamosLjklc57"
      },
      "id": "tamosLjklc57"
    },
    {
      "cell_type": "code",
      "source": [
        "print (5+6)"
      ],
      "metadata": {
        "id": "ELh8KDKBlwb-",
        "outputId": "76bf4649-df0c-4f13-df65-f9c0bcd67373",
        "colab": {
          "base_uri": "https://localhost:8080/"
        }
      },
      "id": "ELh8KDKBlwb-",
      "execution_count": 12,
      "outputs": [
        {
          "output_type": "stream",
          "name": "stdout",
          "text": [
            "11\n"
          ]
        }
      ]
    },
    {
      "cell_type": "markdown",
      "source": [
        "Pakeiskite viršuje esantį kodą, atspausdinti rezultatui 5 + 6"
      ],
      "metadata": {
        "id": "sDE-DR4tmHOq"
      },
      "id": "sDE-DR4tmHOq"
    },
    {
      "cell_type": "code",
      "source": [
        "print (\"Ieva Radavičiūtė\")"
      ],
      "metadata": {
        "id": "alhRXV43l6GB",
        "outputId": "c189cee6-69f1-4864-ac3a-c6acee1bc6bb",
        "colab": {
          "base_uri": "https://localhost:8080/"
        }
      },
      "id": "alhRXV43l6GB",
      "execution_count": 10,
      "outputs": [
        {
          "output_type": "stream",
          "name": "stdout",
          "text": [
            "Ieva Radavičiūtė\n"
          ]
        }
      ]
    },
    {
      "cell_type": "markdown",
      "source": [
        "Pakeiskite viršuje esantį kodą atspausdinti jūsų vardui."
      ],
      "metadata": {
        "id": "GwSeArLAmPsw"
      },
      "id": "GwSeArLAmPsw"
    },
    {
      "cell_type": "markdown",
      "source": [
        "Spausdinti galima keletą skirtingų dalykų vienu metu. Sekantis kodas spausdina tekstą, skaičių, ir vėl tekstą. Informacijos \"vienetai\" atskiriami kableliais."
      ],
      "metadata": {
        "id": "qIRHpuBRmYNs"
      },
      "id": "qIRHpuBRmYNs"
    },
    {
      "cell_type": "code",
      "source": [
        "print(\"Man yra\", 39, \"metai\")"
      ],
      "metadata": {
        "id": "ED4iyBOAl8yE",
        "outputId": "b9a49016-2fa8-4f1a-b033-1fc470592b8a",
        "colab": {
          "base_uri": "https://localhost:8080/"
        }
      },
      "id": "ED4iyBOAl8yE",
      "execution_count": 11,
      "outputs": [
        {
          "output_type": "stream",
          "name": "stdout",
          "text": [
            "Man yra 39 metai\n"
          ]
        }
      ]
    },
    {
      "cell_type": "markdown",
      "source": [
        "Informaciją galima saugoti kintamuosiuose. Šiuo atveju 39, pavadinkime tiesiog kintamuoju `metai`. Pakeiskite kintamojo `metai` vertę kiek jums yra metų, sukurkite naują kintamąjį `vardas`, jam priskirte savo vardą. Atspausdinkite informaciją formatu \"Mano vardas yra `vardas` ir man yra `metai`\""
      ],
      "metadata": {
        "id": "luDJxLJZmyuI"
      },
      "id": "luDJxLJZmyuI"
    },
    {
      "cell_type": "code",
      "source": [
        "metai = 20\n",
        "vardas = \"Ieva\"\n",
        "print (\"Mano vardas yra\", vardas, \"ir man yra\", metai)"
      ],
      "metadata": {
        "id": "3nazz87_m8kW",
        "outputId": "19d71ec5-5e98-4348-86e1-d9151d9a5bca",
        "colab": {
          "base_uri": "https://localhost:8080/"
        }
      },
      "id": "3nazz87_m8kW",
      "execution_count": 7,
      "outputs": [
        {
          "output_type": "stream",
          "name": "stdout",
          "text": [
            "Mano vardas yra Ieva ir man yra 20\n"
          ]
        }
      ]
    },
    {
      "cell_type": "markdown",
      "source": [
        "Python programavimo kalboje, simboliai ne kabutėse, yra traktuojami ne kaip informacija, o kaip funkcijos ar kintamieji kurie turi antrines reikšmes. Pvz. \"metai\" traktuojamas kaip žodis, o `metai` trauktuojamas kaip nuoroda/kintamasis į kažkokią informaciją."
      ],
      "metadata": {
        "id": "hVDAX_mJn_cZ"
      },
      "id": "hVDAX_mJn_cZ"
    },
    {
      "cell_type": "code",
      "source": [
        "metai = 39\n",
        "print (metai)\n",
        "print (\"metai\")"
      ],
      "metadata": {
        "id": "ydd4cNx1oRi8",
        "outputId": "5521b719-1be5-4adb-ae57-f41a6dcf41c5",
        "colab": {
          "base_uri": "https://localhost:8080/"
        }
      },
      "id": "ydd4cNx1oRi8",
      "execution_count": 8,
      "outputs": [
        {
          "output_type": "stream",
          "name": "stdout",
          "text": [
            "39\n",
            "metai\n"
          ]
        }
      ]
    },
    {
      "cell_type": "markdown",
      "source": [
        "Informaciją programai galima pateikti keletu būdų: aprašyti kaip kintamąjį `a = 2`, nuskaityti iš failo `a = open(\"failas.txt\")`, atsisiųsti iš interneto arba paprašyti user'io/programos naudotojo įvesti patiems. Tam naudojama funkcija `input()`. Funkcijos argumentui galima pateikti tekstą/aprašą kuris bus atvaizduojamas teksto įvedimo metu `input(\"Ko norime paklausti\")`. Nuskaitoma vertė visuomet yra tekstas, net ir tuo atveju jeigu įvedamas skaičius."
      ],
      "metadata": {
        "id": "SC1FI5qsowct"
      },
      "id": "SC1FI5qsowct"
    },
    {
      "cell_type": "code",
      "source": [
        "diena = input(\"Įveskite kokia šiandien savaitės diena: \")\n",
        "print (\"Šiandien yra\", diena)"
      ],
      "metadata": {
        "id": "Qu7ukK7hpFSn",
        "outputId": "d2d347fd-e574-4ab0-eef0-e095269dff2b",
        "colab": {
          "base_uri": "https://localhost:8080/"
        }
      },
      "id": "Qu7ukK7hpFSn",
      "execution_count": 9,
      "outputs": [
        {
          "output_type": "stream",
          "name": "stdout",
          "text": [
            "Įveskite kokia šiandien savaitės diena: Ketvirtadienis\n",
            "Šiandien yra Ketvirtadienis\n"
          ]
        }
      ]
    },
    {
      "cell_type": "markdown",
      "source": [
        "Panaudojus daugumą funkcijų, jos mums grąžina (return) kažkokią vertę, objektą. Ne išimtis `input()`. Ši funkcija mums grąžina vertę, kurią mes įvedame su klaviatūra, o jei mes turime kažkokią vertę, turime ją priskirti kažkokiam kintamąjam. `verte = input()`.\n",
        "\n",
        "Jeigu mes parašysime tiesiog `input()`, vertę gausime, tačiau neturėdami kintamojo (nuorodos į ją), ji mums yra bevertė ir nepanaudojama. Pavyzdyje atkreipkite dėmesį į funkciją `int()` - visi duomenys nuskaityti su funkcija `input()` yra tekstas (`string`), norint pakelti įvestą tekstą (`\"7\"`) kvadratu, reikia pirmiausia jį konvertuoti iš teksto į skaičių (`string` to `integer`).\n",
        "\n",
        "ChatGPT:\n",
        "The decimal number 7 is 111 in binary. As a string, \"7\" represents the character '7', which is different from its numerical binary equivalent. If you were to convert the character '7' to binary using the ASCII encoding, its decimal value is 55, which in binary is 110111.  "
      ],
      "metadata": {
        "id": "ZMCiBaItB-QA"
      },
      "id": "ZMCiBaItB-QA"
    },
    {
      "cell_type": "code",
      "source": [
        "input (\"Įveskite pirmą skaičių: \")                    # Skaičius įvestas, bet be kintamojo priskyrimo mes jo negalime panaudoti\n",
        "antras_sk = int (input (\"įveskite antrą skaičių: \"))  # Skaičius įvestas, ir mes jį galime panaudoti skaičiavimuose, pvz. sk_kvadratu = antras_sk**2\n",
        "print (antras_sk**2)"
      ],
      "metadata": {
        "id": "FOge_G2MCpwa",
        "outputId": "27b64914-26dc-42ae-9076-4eb610d16374",
        "colab": {
          "base_uri": "https://localhost:8080/"
        }
      },
      "id": "FOge_G2MCpwa",
      "execution_count": 13,
      "outputs": [
        {
          "output_type": "stream",
          "name": "stdout",
          "text": [
            "Įveskite pirmą skaičių: 111\n",
            "įveskite antrą skaičių: 110111\n",
            "12124432321\n"
          ]
        }
      ]
    },
    {
      "cell_type": "markdown",
      "id": "054c8e77",
      "metadata": {
        "id": "054c8e77"
      },
      "source": [
        "## A užduotis"
      ]
    },
    {
      "cell_type": "markdown",
      "id": "6ddb641e",
      "metadata": {
        "heading_collapsed": true,
        "id": "6ddb641e"
      },
      "source": [
        "#### A1\n",
        "\n",
        "Sukurkite kintamuosius `x`, `y` ir priskirkite jiems pasirinktas skaitines vertes."
      ]
    },
    {
      "cell_type": "code",
      "execution_count": 14,
      "id": "d65a28ef",
      "metadata": {
        "hidden": true,
        "id": "d65a28ef"
      },
      "outputs": [],
      "source": [
        "x = 3\n",
        "y = 17"
      ]
    },
    {
      "cell_type": "markdown",
      "id": "581760ef",
      "metadata": {
        "heading_collapsed": true,
        "id": "581760ef"
      },
      "source": [
        "#### A2\n",
        "\n",
        "Atspausdinkite `x` ir `y` vertes vienoje eilutėje tokiu formatu: `x = 5, y = 9`.\n",
        "\n",
        "Hint: `print()` funkcija turi ne vieną \"nustatymą\", vienas iš jų yra `sep` - separator, arba kokį ženklą padėti kai informaciją atskiriame kableliais. Pabandykite panaudoti `print (2, 2)` ir `print (2, 2, sep=\"\")`."
      ]
    },
    {
      "cell_type": "code",
      "execution_count": 21,
      "id": "9e243dca",
      "metadata": {
        "hidden": true,
        "id": "9e243dca",
        "outputId": "7b4ac8c5-9ca1-4b3c-cb6a-1ae6969708e0",
        "colab": {
          "base_uri": "https://localhost:8080/"
        }
      },
      "outputs": [
        {
          "output_type": "stream",
          "name": "stdout",
          "text": [
            "x = 3, y = 17\n"
          ]
        }
      ],
      "source": [
        "print (\"x = \", x, \", y = \", y, sep=\"\")"
      ]
    },
    {
      "cell_type": "markdown",
      "id": "b28caa26",
      "metadata": {
        "heading_collapsed": true,
        "id": "b28caa26"
      },
      "source": [
        "#### A3\n",
        "\n",
        "Suskaičiuokite `x` ir `y` sumą. Ją priskirkite naujam kintamajam `suma`. Rezultatą atspausdinkite."
      ]
    },
    {
      "cell_type": "code",
      "execution_count": 22,
      "id": "ba088d64",
      "metadata": {
        "hidden": true,
        "id": "ba088d64",
        "outputId": "8e5b7466-c527-4350-d3ac-501531824c68",
        "colab": {
          "base_uri": "https://localhost:8080/"
        }
      },
      "outputs": [
        {
          "output_type": "stream",
          "name": "stdout",
          "text": [
            "20\n"
          ]
        }
      ],
      "source": [
        "suma = x + y\n",
        "print (suma)"
      ]
    },
    {
      "cell_type": "markdown",
      "id": "da85333d",
      "metadata": {
        "heading_collapsed": true,
        "id": "da85333d"
      },
      "source": [
        "#### A4\n",
        "\n",
        "Pakelkite `x` ir `y` laipsniu `suma`. Rezultatą atspausdinkite vienoje eilutėje.\n",
        "Pvz. jei `x = 2`, `y = 3`, o `suma = 5`, atspausdinkite \"2 pakelta 5 lygu 32, 3 pakelta 5 lygu 243\""
      ]
    },
    {
      "cell_type": "code",
      "execution_count": 23,
      "id": "1820b2d5",
      "metadata": {
        "hidden": true,
        "id": "1820b2d5",
        "outputId": "2f1cac1d-cb2e-41d4-8b8b-e6872f29e532",
        "colab": {
          "base_uri": "https://localhost:8080/"
        }
      },
      "outputs": [
        {
          "output_type": "stream",
          "name": "stdout",
          "text": [
            "3 pakelta 20 lygu 3486784401, 17 pakelta 20 lygu 4064231406647572522401601\n"
          ]
        }
      ],
      "source": [
        "print (x, \" pakelta \", suma, \" lygu \", x**suma, \", \", y, \" pakelta \", suma, \" lygu \", y**suma, sep=\"\")"
      ]
    },
    {
      "cell_type": "markdown",
      "id": "56406068",
      "metadata": {
        "heading_collapsed": true,
        "id": "56406068"
      },
      "source": [
        "#### A5\n",
        "\n",
        "Apskaičiuokite kvadratines `x` ir `y` šaknis. Tada apskaičiuokite kubinę `suma` šaknį. <br>\n",
        "Rezultatą atspausdinkite viena komanda dviejose eilutėse.\n",
        "\n",
        "Hint: programavimo kalbos turi naujos eilutė tekste simbolį, jis yra `\\n`. Pabandykite atspausdinti `print(\"Mano vardas\")` ir `print(\"Mano\\nvardas\")`."
      ]
    },
    {
      "cell_type": "code",
      "execution_count": 29,
      "id": "6318c26c",
      "metadata": {
        "hidden": true,
        "id": "6318c26c",
        "outputId": "c1fd5604-d36f-484c-c564-f66c4224254d",
        "colab": {
          "base_uri": "https://localhost:8080/"
        }
      },
      "outputs": [
        {
          "output_type": "stream",
          "name": "stdout",
          "text": [
            "1.7320508075688772 4.123105625617661 \n",
            " 2.7144176165949063\n"
          ]
        }
      ],
      "source": [
        "print (x**(1/2), y**(1/2), \"\\n\", suma**(1/3))"
      ]
    },
    {
      "cell_type": "markdown",
      "id": "b6b4f4cc",
      "metadata": {
        "heading_collapsed": true,
        "id": "b6b4f4cc"
      },
      "source": [
        "#### A6\n",
        "\n",
        "Apskaičiuokite $r_1$ ir $r_2$:\n",
        "\n",
        "$r_1 = (x+y)(x-y)$\n",
        "\n",
        "$r_2 = \\dfrac{x+y}{x-y}$\n",
        "\n",
        "Rezultatą atspausdinkite viena komanda dviejose eilutėse."
      ]
    },
    {
      "cell_type": "code",
      "execution_count": 30,
      "id": "8737a780",
      "metadata": {
        "hidden": true,
        "id": "8737a780",
        "outputId": "423e1b41-a9a9-4b00-ecf3-77d44d5753c3",
        "colab": {
          "base_uri": "https://localhost:8080/"
        }
      },
      "outputs": [
        {
          "output_type": "stream",
          "name": "stdout",
          "text": [
            "-280 \n",
            " -1.4285714285714286\n"
          ]
        }
      ],
      "source": [
        "r1 = (x + y) * (x - y)\n",
        "r2 = (x + y) / (x - y)\n",
        "print (r1, \"\\n\", r2)"
      ]
    },
    {
      "cell_type": "markdown",
      "id": "5817922f",
      "metadata": {
        "heading_collapsed": true,
        "id": "5817922f"
      },
      "source": [
        "#### A7\n",
        "\n",
        "Įveskite savo vardą klaviatūra ir priskirkite naujam kintamajam. Pasinaudokite funkcija `input()`."
      ]
    },
    {
      "cell_type": "code",
      "execution_count": 87,
      "id": "dfc7ca48",
      "metadata": {
        "hidden": true,
        "id": "dfc7ca48",
        "outputId": "17555eb8-2bf7-4d7c-aa36-c38be8183674",
        "colab": {
          "base_uri": "https://localhost:8080/"
        }
      },
      "outputs": [
        {
          "name": "stdout",
          "output_type": "stream",
          "text": [
            "Koks tavo vardas?:Ieva\n"
          ]
        }
      ],
      "source": [
        "vardas = input(\"Koks tavo vardas?:\")"
      ]
    },
    {
      "cell_type": "markdown",
      "id": "599a9842",
      "metadata": {
        "heading_collapsed": true,
        "id": "599a9842"
      },
      "source": [
        "#### A8\n",
        "\n",
        "Įveskite mėgstamą natūralų skaičių klaviatūra ir priskirkite naujam kintamajam."
      ]
    },
    {
      "cell_type": "code",
      "execution_count": 34,
      "id": "bc14e159",
      "metadata": {
        "hidden": true,
        "id": "bc14e159",
        "outputId": "713fb461-4323-4b73-a538-3587ab8c2af8",
        "colab": {
          "base_uri": "https://localhost:8080/"
        }
      },
      "outputs": [
        {
          "name": "stdout",
          "output_type": "stream",
          "text": [
            "Koks tavo mėgstamas natūralusis skaicius?: 21\n"
          ]
        }
      ],
      "source": [
        "megstamas_skaicius = int (input (\"Koks tavo mėgstamas natūralusis skaičius?: \"))"
      ]
    },
    {
      "cell_type": "markdown",
      "id": "d7273f92",
      "metadata": {
        "heading_collapsed": true,
        "id": "d7273f92"
      },
      "source": [
        "#### A9\n",
        "\n",
        "Atspausdinkite savo vardą."
      ]
    },
    {
      "cell_type": "code",
      "execution_count": 37,
      "id": "752ceae1",
      "metadata": {
        "hidden": true,
        "id": "752ceae1",
        "outputId": "a20a4399-832d-4af6-d2d6-c7d46f768517",
        "colab": {
          "base_uri": "https://localhost:8080/"
        }
      },
      "outputs": [
        {
          "output_type": "stream",
          "name": "stdout",
          "text": [
            "Ieva\n"
          ]
        }
      ],
      "source": [
        "print (vardas)"
      ]
    },
    {
      "cell_type": "markdown",
      "id": "22db6b32",
      "metadata": {
        "heading_collapsed": true,
        "id": "22db6b32"
      },
      "source": [
        "#### A10\n",
        "\n",
        "Atspausdinkite `'Mano vardas yra [vardas] ir aš mėgstu skaičių [skaicius]'`."
      ]
    },
    {
      "cell_type": "code",
      "execution_count": 42,
      "id": "23a51bd4",
      "metadata": {
        "hidden": true,
        "id": "23a51bd4",
        "outputId": "237603ce-b5d1-4004-eb05-01046f6b595d",
        "colab": {
          "base_uri": "https://localhost:8080/"
        }
      },
      "outputs": [
        {
          "output_type": "stream",
          "name": "stdout",
          "text": [
            "Mano vardas yra Ieva ir aš mėgstu skaičių 21\n"
          ]
        }
      ],
      "source": [
        "print (\"Mano vardas yra\", vardas, \"ir aš mėgstu skaičių\", megstamas_skaicius)"
      ]
    },
    {
      "cell_type": "markdown",
      "id": "bb16e287",
      "metadata": {
        "heading_collapsed": true,
        "id": "bb16e287"
      },
      "source": [
        "#### A11\n",
        "\n",
        "Atspausdinkite savo vardą tiek kartų kokį skaičių įvedėte 8 užduotyje. (Padauginkite vardą iš skaičiaus).\n",
        "\n",
        "Naudokite ``int()`` funkciją tekstą paversti skaičiumi."
      ]
    },
    {
      "cell_type": "code",
      "execution_count": 58,
      "id": "ffc64e09",
      "metadata": {
        "hidden": true,
        "id": "ffc64e09",
        "outputId": "28da1d5a-b33c-4421-a277-c74be288b066",
        "colab": {
          "base_uri": "https://localhost:8080/"
        }
      },
      "outputs": [
        {
          "output_type": "stream",
          "name": "stdout",
          "text": [
            "21\n",
            "21\n",
            "21\n",
            "21\n",
            "21\n",
            "21\n",
            "21\n",
            "21\n",
            "21\n",
            "21\n",
            "21\n",
            "21\n",
            "21\n",
            "21\n",
            "21\n",
            "21\n",
            "21\n",
            "21\n",
            "21\n",
            "21\n",
            "21\n"
          ]
        }
      ],
      "source": [
        "int(megstamas_skaicius)\n",
        "x = 0\n",
        "for x in range(0, megstamas_skaicius):\n",
        "    print (megstamas_skaicius)"
      ]
    },
    {
      "cell_type": "markdown",
      "id": "3c1a6eb4",
      "metadata": {
        "heading_collapsed": true,
        "id": "3c1a6eb4"
      },
      "source": [
        "#### A12\n",
        "\n",
        "Įveskite mėgstamą spalvą klaviatūra ir priskirkite naujam kintamajam."
      ]
    },
    {
      "cell_type": "code",
      "execution_count": 56,
      "id": "47cd9c51",
      "metadata": {
        "hidden": true,
        "id": "47cd9c51",
        "outputId": "b962069a-a190-4166-867a-f2b1f4c16b72",
        "colab": {
          "base_uri": "https://localhost:8080/"
        }
      },
      "outputs": [
        {
          "name": "stdout",
          "output_type": "stream",
          "text": [
            "Kokia tavo mėgstama spalva?: Raudona\n"
          ]
        }
      ],
      "source": [
        "megstama_spalva = input (\"Kokia tavo mėgstama spalva?: \")"
      ]
    },
    {
      "cell_type": "markdown",
      "id": "cc45e7fd",
      "metadata": {
        "heading_collapsed": true,
        "id": "cc45e7fd"
      },
      "source": [
        "#### A13\n",
        "\n",
        "Atspausdinkite 7 ir 12 užduočių kintamųjų sumą. (Sudėkite du žodžius)"
      ]
    },
    {
      "cell_type": "code",
      "execution_count": 59,
      "id": "92ac1b72",
      "metadata": {
        "hidden": true,
        "id": "92ac1b72",
        "outputId": "7997e453-8738-4c15-b611-8b6c2a759ab9",
        "colab": {
          "base_uri": "https://localhost:8080/"
        }
      },
      "outputs": [
        {
          "output_type": "stream",
          "name": "stdout",
          "text": [
            "IevaRaudona\n"
          ]
        }
      ],
      "source": [
        "print (vardas+megstama_spalva)"
      ]
    },
    {
      "cell_type": "markdown",
      "id": "adba02f2",
      "metadata": {
        "id": "adba02f2"
      },
      "source": [
        "## B užduotis\n",
        "\n",
        "Parašykite Python programą, kuri:"
      ]
    },
    {
      "cell_type": "markdown",
      "id": "2af4675c",
      "metadata": {
        "heading_collapsed": true,
        "id": "2af4675c"
      },
      "source": [
        "#### B1\n",
        "\n",
        "Paprašo įvesti lygiakraščio daugiakampio kraštinės ilgį ir kampų skaičių."
      ]
    },
    {
      "cell_type": "code",
      "execution_count": 63,
      "id": "48fee102",
      "metadata": {
        "hidden": true,
        "id": "48fee102",
        "outputId": "63f6aac7-23fe-42d5-c8dd-31ec4193b55e",
        "colab": {
          "base_uri": "https://localhost:8080/"
        }
      },
      "outputs": [
        {
          "name": "stdout",
          "output_type": "stream",
          "text": [
            "Pasirinkite daugiakampio kraštinės ilgį: 4\n",
            "Kiek kampu?: 9\n"
          ]
        }
      ],
      "source": [
        "krastines_ilgis = int (input (\"Pasirinkite daugiakampio kraštinės ilgį: \"))\n",
        "kampai = int (input (\"Kiek kampu?: \"))"
      ]
    },
    {
      "cell_type": "markdown",
      "id": "2abb425c",
      "metadata": {
        "heading_collapsed": true,
        "id": "2abb425c"
      },
      "source": [
        "#### B2\n",
        "\n",
        "Suskaičiuoja nurodyto daugiakampio plotą.\n",
        "\n",
        "https://www.wikihow.com/Find-the-Area-of-Regular-Polygons"
      ]
    },
    {
      "cell_type": "code",
      "execution_count": 85,
      "id": "d63ed397",
      "metadata": {
        "hidden": true,
        "id": "d63ed397"
      },
      "outputs": [],
      "source": [
        "import math                                                                     # importuoju math biblioteką, kad skaičiuoti tangentą ir pi\n",
        "perimetras = krastines_ilgis * kampai\n",
        "apotema = krastines_ilgis / (2 * math.tan(math.pi/kampai))\n",
        "plotas = perimetras * apotema * 0.5"
      ]
    },
    {
      "cell_type": "markdown",
      "id": "bcaddabe",
      "metadata": {
        "heading_collapsed": true,
        "id": "bcaddabe"
      },
      "source": [
        "#### B3\n",
        "\n",
        "Rezultatą atspausdina ekrane."
      ]
    },
    {
      "cell_type": "code",
      "execution_count": 86,
      "id": "955b9795",
      "metadata": {
        "hidden": true,
        "id": "955b9795",
        "outputId": "f69c3962-b9d9-4941-a0e6-67599348758a",
        "colab": {
          "base_uri": "https://localhost:8080/"
        }
      },
      "outputs": [
        {
          "output_type": "stream",
          "name": "stdout",
          "text": [
            "98.90918710036641\n"
          ]
        }
      ],
      "source": [
        "print (plotas)"
      ]
    },
    {
      "cell_type": "markdown",
      "id": "7f454b2f",
      "metadata": {
        "id": "7f454b2f"
      },
      "source": [
        "## Sandbox"
      ]
    },
    {
      "cell_type": "code",
      "execution_count": null,
      "id": "89a48d91",
      "metadata": {
        "id": "89a48d91"
      },
      "outputs": [],
      "source": []
    }
  ],
  "metadata": {
    "kernelspec": {
      "display_name": "Python 3",
      "name": "python3"
    },
    "language_info": {
      "codemirror_mode": {
        "name": "ipython",
        "version": 3
      },
      "file_extension": ".py",
      "mimetype": "text/x-python",
      "name": "python",
      "nbconvert_exporter": "python",
      "pygments_lexer": "ipython3",
      "version": "3.9.13"
    },
    "latex_envs": {
      "LaTeX_envs_menu_present": true,
      "autoclose": false,
      "autocomplete": true,
      "bibliofile": "biblio.bib",
      "cite_by": "apalike",
      "current_citInitial": 1,
      "eqLabelWithNumbers": true,
      "eqNumInitial": 1,
      "hotkeys": {
        "equation": "Ctrl-E",
        "itemize": "Ctrl-I"
      },
      "labels_anchors": false,
      "latex_user_defs": false,
      "report_style_numbering": false,
      "user_envs_cfg": false
    },
    "colab": {
      "provenance": [],
      "generative_ai_disabled": true
    }
  },
  "nbformat": 4,
  "nbformat_minor": 5
}