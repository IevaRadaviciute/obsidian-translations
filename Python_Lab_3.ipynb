{
  "cells": [
    {
      "cell_type": "markdown",
      "id": "c6356b94",
      "metadata": {
        "id": "c6356b94"
      },
      "source": [
        "## Programavimo įvado pratybos\n",
        "\n",
        "Prisijungimas ir užduotys:\n",
        "\n",
        "- Python komandoms prisiminti: ``https://www.w3schools.com/python/``\n",
        "- Komentarai: #\n",
        "- Naudingos PowerShell/Terminal komandos:\n",
        "\n",
        "    - `ls` - pažiūrėti katalogo turinį\n",
        "\n",
        "    - `md` - sukurti naują katalogą\n",
        "\n",
        "    - `cd` - pereiti į katalogą / iš katalogo\n",
        "\n",
        "    - `ni p1.py` - sukuria naują bylą vardu `p1.py`\n",
        "\n",
        "    - `python p1.py` - kompiliuoja Python programą\n",
        "   \n",
        "- Elementarūs matematiniai veiksmai Python:\n",
        "\n",
        "    - `2*3` - daugyba\n",
        "    - `2/3` - dalyba\n",
        "    - `2**3` - kėlimas laipsniu\n",
        "    - `2**(1/2)` - šaknies traukimas"
      ]
    },
    {
      "cell_type": "markdown",
      "source": [
        "Visi duomenys Python programavimo kalboje yra objektai. Tai reiškia, kad visi jie yra aprašomi tam tikromis taisyklėmis, kurios nustato ką su tais objektais galima veikti. Ne viską ką galima atlikti su skaičiais, galima atlikti su žodžiais ir atvirkščiai. Pavyzdžiui tam tikro teksto raides galima paversti didžiosiomis `\"septyni\".upper()`, tačiau to nepavyks padaryti su skaičiumi `7.upper()`."
      ],
      "metadata": {
        "id": "-s_2tcGihFto"
      },
      "id": "-s_2tcGihFto"
    },
    {
      "cell_type": "code",
      "source": [
        "# Kintamojo tipą galima patikrinti su funkcija type()\n",
        "x = \"vardas\"\n",
        "y = x\n",
        "z = 7\n",
        "w = 12.3\n",
        "\n",
        "z = float(z)\n",
        "w = str(w)\n",
        "\n",
        "print (type(x))\n",
        "print (type(y))\n",
        "print (type(z))\n",
        "print (type(w))"
      ],
      "metadata": {
        "id": "k-OpQP0kkyTT",
        "colab": {
          "base_uri": "https://localhost:8080/"
        },
        "outputId": "3fe3f8b0-7577-4d8e-d2ab-580efc14114c"
      },
      "id": "k-OpQP0kkyTT",
      "execution_count": 7,
      "outputs": [
        {
          "output_type": "stream",
          "name": "stdout",
          "text": [
            "<class 'str'>\n",
            "<class 'str'>\n",
            "<class 'float'>\n",
            "<class 'str'>\n"
          ]
        }
      ]
    },
    {
      "cell_type": "markdown",
      "source": [
        "Pakeiskite aukščiau esančiame pavyzdyje `z` kintamąjį į `float` tipo ir pakeiskite `w` kintamąjį į `string` tipo."
      ],
      "metadata": {
        "id": "D0-vm8CilL2P"
      },
      "id": "D0-vm8CilL2P"
    },
    {
      "cell_type": "markdown",
      "source": [
        "Kintamuosius galime konvertuoti tarp skirtingų tipų pasinaudodami funkcijomis `int()`, `float()` ir `str()`."
      ],
      "metadata": {
        "id": "NNLVtkCCldKJ"
      },
      "id": "NNLVtkCCldKJ"
    },
    {
      "cell_type": "code",
      "source": [
        "skaicius = 123\n",
        "tekstas = str(skaicius)\n",
        "skaicius_2 = float(tekstas)\n",
        "\n",
        "print (type(skaicius))\n",
        "print (type(tekstas))\n",
        "print (type(skaicius_2))"
      ],
      "metadata": {
        "id": "a5oMuvP8lt8G",
        "colab": {
          "base_uri": "https://localhost:8080/"
        },
        "outputId": "69a191b1-7e3e-47eb-b127-404795663bcd"
      },
      "id": "a5oMuvP8lt8G",
      "execution_count": 8,
      "outputs": [
        {
          "output_type": "stream",
          "name": "stdout",
          "text": [
            "<class 'int'>\n",
            "<class 'str'>\n",
            "<class 'float'>\n"
          ]
        }
      ]
    },
    {
      "cell_type": "markdown",
      "source": [
        "Tekstas (string) yra sudėtinis objektas - sudarytas iš atskirų simbolių. Juos galima indeksuoti."
      ],
      "metadata": {
        "id": "Z89C4tbkmC_z"
      },
      "id": "Z89C4tbkmC_z"
    },
    {
      "cell_type": "code",
      "source": [
        "tekstas = \"Treciosios programavimo pratybos 2025 metais\"\n",
        "\n",
        "pirma_raide = tekstas[0]\n",
        "\n",
        "print (pirma_raide)\n",
        "\n",
        "# Galima pasirinkti ir daugiau nei vieną simbolį panaudojant indeksavimą\n",
        "\n",
        "ketvirtas_zodis = tekstas[32:37]\n",
        "data = int (ketvirtas_zodis)\n",
        "\n",
        "print (data/5)"
      ],
      "metadata": {
        "id": "pzZt-tMSmRH7",
        "colab": {
          "base_uri": "https://localhost:8080/"
        },
        "outputId": "488681cb-bc77-41d2-bd89-59318c70f055"
      },
      "id": "pzZt-tMSmRH7",
      "execution_count": 13,
      "outputs": [
        {
          "output_type": "stream",
          "name": "stdout",
          "text": [
            "T\n",
            "405.0\n"
          ]
        }
      ]
    },
    {
      "cell_type": "markdown",
      "source": [
        "Modifikuokite viršuje esantį kodą, kad iškirptumėte \"2025\". Konvertuokite į skaičių, ir padalinkite iš 5."
      ],
      "metadata": {
        "id": "UcOx0nhKmwwQ"
      },
      "id": "UcOx0nhKmwwQ"
    },
    {
      "cell_type": "markdown",
      "source": [
        "Sąrašas taip pat yra objektas. Teksto simbolius galime paprastai konvertuoti į sąrašą su funkcija `list()`. Ši funkcija kiekvieną teksto simbolį paverčia atskiru žodyno įrašu. Jeigu norime atskirti ties tam tikrais simboliais, galime naudoti `string.split()` - kur string yra kažkoks tekstas."
      ],
      "metadata": {
        "id": "JEQQaqaym-Hd"
      },
      "id": "JEQQaqaym-Hd"
    },
    {
      "cell_type": "code",
      "source": [
        "tekstas = \"To the mind that is still, the whole universe surrenders.\"\n",
        "\n",
        "sarasas = list(tekstas)\n",
        "sarasas2 = tekstas.split(\",\")   # Tekstą į atskirtas dalis atskiriame ties kableliu\n",
        "print (sarasas2)\n",
        "\n",
        "tekstas1 = tekstas.replace(\",\" , \"\")\n",
        "zodziai = tekstas1.split (\" \")\n",
        "zodziu_sarasas = list(zodziai)\n",
        "\n",
        "print (zodziu_sarasas[0:10])"
      ],
      "metadata": {
        "id": "FQCNwhE7nNqt",
        "colab": {
          "base_uri": "https://localhost:8080/"
        },
        "outputId": "2807a4e9-2fb2-4050-baeb-7df422f01638"
      },
      "id": "FQCNwhE7nNqt",
      "execution_count": 52,
      "outputs": [
        {
          "output_type": "stream",
          "name": "stdout",
          "text": [
            "['To the mind that is still', ' the whole universe surrenders.']\n",
            "['To', 'the', 'mind', 'that', 'is', 'still', 'the', 'whole', 'universe', 'surrenders.']\n"
          ]
        }
      ]
    },
    {
      "cell_type": "markdown",
      "source": [
        "Modifikuokite viršuje esantį kodą taip, kad sąraše atsidurtų atskiri žodžiai. Tam jums reikės atlikti du veiksmus. Pirmiausia tekste panaikinti kablelį su `string.replace()` metodu, ir tuomet pasinaudojant `string.split()` atskirti ties tarpais (spaces)."
      ],
      "metadata": {
        "id": "uFPILFRDozFY"
      },
      "id": "uFPILFRDozFY"
    },
    {
      "cell_type": "markdown",
      "source": [
        "Sąrašas taip pat yra sudėtinis objektas (sudarytas iš narių), tad galime juos indeksuoti. Žemiau esančiame kodo pavyzdyje, atskiriame sakinį ties kableliu, vadinasi turime du narius (iki ir po kablelio), ir indeksuodami apsirenkame pirmąją sakinio dalį su indeksu `[0]` - programavime pirmasis narys lygus 0."
      ],
      "metadata": {
        "id": "9G9Z60ILpIGc"
      },
      "id": "9G9Z60ILpIGc"
    },
    {
      "cell_type": "code",
      "source": [
        "tekstas = \"To the mind that is still, the whole universe surrenders.\"\n",
        "\n",
        "#sarasas = tekstas.split(\",\")\n",
        "tekstas1 = tekstas.replace(\",\" , \"\")\n",
        "zodziai = tekstas1.split(\" \")\n",
        "zodziu_sarasas = list(zodziai)\n",
        "\n",
        "print (zodziu_sarasas[0], zodziu_sarasas[1], zodziu_sarasas[2], zodziu_sarasas[6], zodziu_sarasas[7], zodziu_sarasas[8])"
      ],
      "metadata": {
        "id": "DldqRVxfpQwS",
        "colab": {
          "base_uri": "https://localhost:8080/"
        },
        "outputId": "9592b69d-b763-4365-9788-1e96e0176936"
      },
      "id": "DldqRVxfpQwS",
      "execution_count": 59,
      "outputs": [
        {
          "output_type": "stream",
          "name": "stdout",
          "text": [
            "To the mind the whole universe\n"
          ]
        }
      ]
    },
    {
      "cell_type": "markdown",
      "source": [
        "Modifikuokite aukščiau esantį kodą taip, kad pasirinktumėte pirmą, antrą, trečią, septintą, aštuntą ir devintą žodžius."
      ],
      "metadata": {
        "id": "-Pbu0vSGpvhy"
      },
      "id": "-Pbu0vSGpvhy"
    },
    {
      "cell_type": "markdown",
      "id": "054c8e77",
      "metadata": {
        "id": "054c8e77"
      },
      "source": [
        "## A užduotis"
      ]
    },
    {
      "cell_type": "markdown",
      "id": "6ddb641e",
      "metadata": {
        "heading_collapsed": true,
        "id": "6ddb641e"
      },
      "source": [
        "#### A1\n",
        "\n",
        "Jums jau sukurtas kintamasis `letters`, pasinaudodami indeksavimu, išrinkite reikalingas raides ir atspausdinkite savo vardą iš didžiosios raidės.\n",
        "\n",
        "Užuomina: Indeksavimas vykdomas laužtinių skliaustų pagalba, pvz. `letters[5]` grąžintų raidę `f`."
      ]
    },
    {
      "cell_type": "code",
      "execution_count": 74,
      "id": "d65a28ef",
      "metadata": {
        "hidden": true,
        "id": "d65a28ef",
        "colab": {
          "base_uri": "https://localhost:8080/"
        },
        "outputId": "f99ba623-3555-4a7f-97fc-ac53b0f46fcc"
      },
      "outputs": [
        {
          "output_type": "stream",
          "name": "stdout",
          "text": [
            "Ieva\n"
          ]
        }
      ],
      "source": [
        "letters = \"abcdefghijklmnopqrstuvwxyz\"\n",
        "\n",
        "print(letters[8].upper(), letters[4], letters[21], letters[0], sep=\"\")\n"
      ]
    },
    {
      "cell_type": "markdown",
      "id": "581760ef",
      "metadata": {
        "heading_collapsed": true,
        "id": "581760ef"
      },
      "source": [
        "#### A2\n",
        "\n",
        "Sukurkite naują kintamąjį ``auditorija`` ir priskirkite jam savo auditorijos numerį pasinaudodami tik kintamuoju ``digits``, t.y. jei auditorija yra 806, išrinkite atitinkamus skaitmenis.\n",
        "\n",
        "Užuomina: atkreipkite dėmesį, kad kintamsis `digits` yra skaičius, o indeksavimui reikalingas `string` tipo kintamasis."
      ]
    },
    {
      "cell_type": "code",
      "execution_count": 85,
      "id": "158bb2bc",
      "metadata": {
        "hidden": true,
        "id": "158bb2bc",
        "colab": {
          "base_uri": "https://localhost:8080/"
        },
        "outputId": "6e6b9d74-0d29-4ec6-b30d-98b9a4c5ba4a"
      },
      "outputs": [
        {
          "output_type": "stream",
          "name": "stdout",
          "text": [
            "806\n"
          ]
        }
      ],
      "source": [
        "digits = 1234567890\n",
        "skaiciai = str(digits)\n",
        "skaitmenys = list(skaiciai)\n",
        "\n",
        "auditorija = str(skaitmenys[7]) + str(skaitmenys[9]) + str(skaitmenys[5])\n",
        "\n",
        "print (auditorija)"
      ]
    },
    {
      "cell_type": "markdown",
      "id": "da85333d",
      "metadata": {
        "heading_collapsed": true,
        "id": "da85333d"
      },
      "source": [
        "#### A3\n",
        "\n",
        "Jums pateiktas kintamasis `sakinys`. Padalinkite A2 užduotyje sukurtą kintamąjį `auditorija`, iš pateikto sakinio ilgio (simbolių skaičiaus).\n",
        "\n",
        "```\n",
        "Auditorijos numeris: [numeris]\n",
        "Sakinio ilgis: [ilgis]\n",
        "[numeris] // [ilgis] = [dalyba] (liekana [liekana])\n",
        "```\n",
        "\n",
        "Pavyzdžiui, jei auditorijos numeris yra 101, o sakinio ilgis -- 15, tada turite atspausdinti:\n",
        "\n",
        "```\n",
        "Auditorijos numeris: 101\n",
        "Sakinio ilgis: 15\n",
        "101 // 15 = 6 (liekana 11)\n",
        "\n",
        "```"
      ]
    },
    {
      "cell_type": "code",
      "execution_count": 117,
      "id": "1820b2d5",
      "metadata": {
        "hidden": true,
        "id": "1820b2d5",
        "colab": {
          "base_uri": "https://localhost:8080/"
        },
        "outputId": "e936f650-8eaa-4630-f6e5-963017d57167"
      },
      "outputs": [
        {
          "output_type": "stream",
          "name": "stdout",
          "text": [
            "Auditorijos numeris: 806 \n",
            " Sakinio ilgis: 106 \n",
            " 806 // 106 = 7 (liekana 64 )\n"
          ]
        }
      ],
      "source": [
        "sakinys = \"Kai programuotojas susiduria su sunkumais ieškodamas klaidų, tai reiškia, kad jis ieško ne ten kur reikia.\"\n",
        "\n",
        "auditorija = int (auditorija)\n",
        "\n",
        "zodziai = list(sakinys)\n",
        "sakinio_ilgis = len(zodziai)\n",
        "\n",
        "print(\"Auditorijos numeris:\", auditorija, \"\\n\", \"Sakinio ilgis:\", sakinio_ilgis, \"\\n\", auditorija, \"//\", sakinio_ilgis, \"=\", auditorija//sakinio_ilgis, \"(liekana\", auditorija%sakinio_ilgis, \")\", sep=\" \")\n"
      ]
    },
    {
      "cell_type": "markdown",
      "id": "56406068",
      "metadata": {
        "heading_collapsed": true,
        "id": "56406068"
      },
      "source": [
        "#### A4\n",
        "\n",
        "Pasinaudokite A3 užduotyje pateiktu kintamuoju `sakinys`. Pakeiskite visas \"s\" raides skaičiumi \"5\", ir visas raides į didžiąsias."
      ]
    },
    {
      "cell_type": "code",
      "execution_count": 118,
      "id": "6318c26c",
      "metadata": {
        "hidden": true,
        "id": "6318c26c",
        "colab": {
          "base_uri": "https://localhost:8080/"
        },
        "outputId": "a3eed63d-61aa-4424-c7b0-5085d16c1ad8"
      },
      "outputs": [
        {
          "output_type": "stream",
          "name": "stdout",
          "text": [
            "KAI PROGRAMUOTOJA5 5U5IDURIA 5U 5UNKUMAI5 IEŠKODAMA5 KLAIDŲ, TAI REIŠKIA, KAD JI5 IEŠKO NE TEN KUR REIKIA.\n"
          ]
        }
      ],
      "source": [
        "naujas_sakinys = sakinys.replace(\"s\", \"5\").upper()\n",
        "\n",
        "print(naujas_sakinys)"
      ]
    },
    {
      "cell_type": "markdown",
      "source": [
        "#### A5\n",
        "\n",
        "Parašykite kodą, kuris paprašytų įvesti žodį, ir atspausdintų \"Jūs įvedėte žodį \"...\" kurio ilgis yra ... .\n",
        "\n",
        "Užuomina: Pasinaudokite `input()`, `len()` funkcijomis."
      ],
      "metadata": {
        "id": "0E1Kpq0WCI9I"
      },
      "id": "0E1Kpq0WCI9I"
    },
    {
      "cell_type": "code",
      "source": [
        "zodis = input(\"Įveskite žodį: \")\n",
        "ilgis = len(zodis)\n",
        "\n",
        "print (\"Jūs įvedėte žodį \", '\"', zodis, '\"', \" kurio ilgis yra \", ilgis, sep=\"\")\n",
        "\n"
      ],
      "metadata": {
        "id": "zl8XUNYHCfc8",
        "colab": {
          "base_uri": "https://localhost:8080/"
        },
        "outputId": "dc07a1ef-be5c-448b-9838-3cb210a5a8b0"
      },
      "id": "zl8XUNYHCfc8",
      "execution_count": 111,
      "outputs": [
        {
          "output_type": "stream",
          "name": "stdout",
          "text": [
            "Įveskite žodį: Labas\n",
            "Jūs įvedėte žodį \"Labas\" kurio ilgis yra 5\n"
          ]
        }
      ]
    },
    {
      "cell_type": "markdown",
      "source": [
        "#### A6\n",
        "\n",
        "Parašykite kodą, kuris paprašytų įvesti betkokį natūralųjį skaičių, tuomet padalinkite duotąjį skaičių iš to skaičiaus veidrodinės versijos (pvz. 457 veidrodinė versija yra 754). Atspausdinkite \"Jūsų įvestas skaičius yra ..., padalinus jį iš ... gauname ...\""
      ],
      "metadata": {
        "id": "aQ634peuCwdx"
      },
      "id": "aQ634peuCwdx"
    },
    {
      "cell_type": "code",
      "source": [
        "skaicius = input (\"Įveskite norimą natūralūjį skaičių: \")\n",
        "skaicius = int(skaicius)\n",
        "\n",
        "skaitmenys = str(skaicius)\n",
        "#atvirkscias = int[::-1] ?\n",
        "atvirkscias = int (atvirkscio_skaitmenys)\n",
        "\n",
        "#print(tekstas[(einu nuo kur):(einu iki kur):(dedu zingsni)])\n",
        "#print[::-1] - eis nuo galo\n",
        "\n",
        "\n",
        "\n",
        "print (\"Jūsų įvestas skaičius yra: \", skaicius, \", padalinus jį iš \", atvirkscio_skaitmenys, \" gauname \", skaicius/atvirkscias, sep=\"\")"
      ],
      "metadata": {
        "id": "d6WvuflsD5VL",
        "colab": {
          "base_uri": "https://localhost:8080/"
        },
        "outputId": "de393b27-76aa-4754-e10c-45f5a5f11883"
      },
      "id": "d6WvuflsD5VL",
      "execution_count": 124,
      "outputs": [
        {
          "output_type": "stream",
          "name": "stdout",
          "text": [
            "Įveskite norimą natūralūjį skaičių: 123\n",
            "Jūsų įvestas skaičius yra: 123, padalinus jį iš 321 gauname 0.38317757009345793\n"
          ]
        }
      ]
    },
    {
      "cell_type": "markdown",
      "id": "b6b4f4cc",
      "metadata": {
        "heading_collapsed": true,
        "id": "b6b4f4cc"
      },
      "source": [
        "#### A7\n",
        "\n",
        "Jums sukurtas kintamasis, tam tikro duomenų failo antraštinė eilutė su informacija.\n",
        "\n",
        "Parašykite kodą, kuris iš šio kintamojo iškerpa visas penkias skaitines vertes ir priskiria jas naujiems kintamiesiems. Pasinaudokite galimybe karpyti (slicing). Skaitines vertes atspausdinkite.\n",
        "\n",
        "Dažniausiai duomenų failai yra standartizuoti, tad parašę kodą kuris iškerpa tam tikrą informaciją iš vieno failo, tas pats kodas veiks ir su kitais atitinkamais duomenų failais."
      ]
    },
    {
      "cell_type": "code",
      "execution_count": 133,
      "id": "8737a780",
      "metadata": {
        "hidden": true,
        "id": "8737a780",
        "colab": {
          "base_uri": "https://localhost:8080/"
        },
        "outputId": "0d9b96a4-cbfb-4070-c6dd-fb0c5d2a3d7a"
      },
      "outputs": [
        {
          "output_type": "stream",
          "name": "stdout",
          "text": [
            "-55.423 0.902 12.129 912 5014\n"
          ]
        }
      ],
      "source": [
        "eilute = \"Radial velocity =   -55.423  dispersion =   0.902  FWHM =  12.129, 912 lines matched out of 5014\"\n",
        "\n",
        "zodziai = eilute.replace(\",\", \"\").replace(\"=\", \"\").split()\n",
        "#print(zodziai)\n",
        "\n",
        "Rv = zodziai[2]\n",
        "Dis = zodziai[4]\n",
        "FWHM = zodziai[6]\n",
        "line_no = zodziai[7]\n",
        "total_line_no = zodziai[12]\n",
        "\n",
        "# Dis =\n",
        "# FWHM =\n",
        "# line_no =\n",
        "# total_line_no =\n",
        "\n",
        "print (Rv, Dis, FWHM, line_no, total_line_no)"
      ]
    },
    {
      "cell_type": "markdown",
      "id": "5817922f",
      "metadata": {
        "heading_collapsed": true,
        "id": "5817922f"
      },
      "source": [
        "#### A8\n",
        "\n",
        "Dar kartą atkreipkite dėmesį į duomenų failo antraštę. Joje pateikta informacija apie linijas (šiam momentui nėra svarbu kas tai yra).\n",
        "\n",
        "Apskaičiuokite kiek procentų linijų buvo rasta (matched). Rezultatą atspausdinkite 2 skaičių po kablelio tikslumu. Nepamirškite atspausdinti procento ženklo, pvz. 12.30% (jeigu antras skaičius po kablelio lygus 0, jį irgi atspausdinti reikia). Pasinaudokite ankstesnėje užduotyje sukurtais kintamaisiais."
      ]
    },
    {
      "cell_type": "code",
      "execution_count": 137,
      "id": "dfc7ca48",
      "metadata": {
        "hidden": true,
        "id": "dfc7ca48",
        "colab": {
          "base_uri": "https://localhost:8080/"
        },
        "outputId": "92a3ef24-723f-471e-aa3a-efd5380bc403"
      },
      "outputs": [
        {
          "output_type": "stream",
          "name": "stdout",
          "text": [
            "Rasta 18.19% lnijų\n"
          ]
        }
      ],
      "source": [
        "percentage = int (line_no)/int(total_line_no)*100\n",
        "\n",
        "print(f\"Rasta {percentage:.2f}% lnijų\")"
      ]
    },
    {
      "cell_type": "markdown",
      "id": "599a9842",
      "metadata": {
        "heading_collapsed": true,
        "id": "599a9842"
      },
      "source": [
        "#### A9\n",
        "\n",
        "Pridėkite prie kintamojo ``eilute`` informaciją, kurią suskaičiavote 6-oje užduotyje. Rezultatą atspausdinkite.\n",
        "\n",
        "Atspausdintas rezultatas turėtų atrodyti panašiai: `\"Radial velocity =   -55.423  dispersion =   0.902  FWHM =  12.129, 912 lines matched out of 5014 (18.19%)\"`."
      ]
    },
    {
      "cell_type": "code",
      "execution_count": null,
      "id": "bc14e159",
      "metadata": {
        "hidden": true,
        "id": "bc14e159"
      },
      "outputs": [],
      "source": []
    },
    {
      "cell_type": "markdown",
      "id": "b8b1336e",
      "metadata": {
        "id": "b8b1336e"
      },
      "source": [
        "#### A10\n",
        "\n",
        "Jums pradėtas kurti naujas sąrašas (list). Papildykite jį šios dienos datos elementais. Pvz. 20250925\n",
        "\n",
        "Tuomet sąrašą išrikiuokite didėjimo tvarka, naudokite metodą `sort()` arba funkciją `sorted()`. (Metodas naudojamas \"ant\" kintamojo `sarasas.sort()`, funkcijai kintamasis paduodamas `sorted(sarasas)`."
      ]
    },
    {
      "cell_type": "code",
      "execution_count": null,
      "id": "890e3a43",
      "metadata": {
        "id": "890e3a43"
      },
      "outputs": [],
      "source": [
        "numbers = [2, 0, 2, 5, ....]\n"
      ]
    },
    {
      "cell_type": "markdown",
      "source": [
        "#### A11\n",
        "\n",
        "Raskite didžiausią ir mažiausią `numbers` sąrašo vertes, apskaičiuokite sąraše esančių skaičių vidurkį.\n",
        "\n",
        "Užuomina: Pasinaudokite `min()`, `max()`, `sum()` ir `len()` funkcijomis."
      ],
      "metadata": {
        "id": "VTuV-Pz6HjmU"
      },
      "id": "VTuV-Pz6HjmU"
    },
    {
      "cell_type": "code",
      "source": [],
      "metadata": {
        "id": "kYp9a6iMMI4p"
      },
      "id": "kYp9a6iMMI4p",
      "execution_count": null,
      "outputs": []
    },
    {
      "cell_type": "markdown",
      "source": [
        "#### A12\n",
        "\n",
        "Paprašykite įvesti betkokį sveikąjį teigiamą skaičių. Pateiktas kodas pateiktą skaičių konvertuoja į simbolių sąrašą. Pataisykite kodą, kad simboliai būtų skaičiai type: int, o ne type: str. A10 užduotyje sukurtą sąrašą `numbers` papildykite naujais skaitmenimis iš sąrašo `numbers_2`. Vėl išrikiuokite sąrašą didėjimo tvarka."
      ],
      "metadata": {
        "id": "e7XvF06bMGbR"
      },
      "id": "e7XvF06bMGbR"
    },
    {
      "cell_type": "code",
      "source": [
        "ivestas_skaicius =                  # Papildykite šią eilutę kodu, kuri paprašytų įvesti sveikąjį skaičių.\n",
        "numbers_2 = []                      # Sukurtas naujas tuščias sąrašas į kurį dėsime naujas vertes.\n",
        "\n",
        "for skaitmuo in ivestas_skaicius:   # Imame kiekvieną įvesto skaičiaus skaimenį\n",
        "  numbers_2.append(skaitmuo)        # Pridedame kiekvieną skaitmenį į naujai sukurtą number_2 sąrašą\n",
        "print (numbers_2)\n",
        "\n",
        "# Papildykite kodu kuris kintamąjį numbers papildytų nariais iš numbers_2.\n"
      ],
      "metadata": {
        "id": "GFNJ6rAMNV74"
      },
      "id": "GFNJ6rAMNV74",
      "execution_count": null,
      "outputs": []
    },
    {
      "cell_type": "markdown",
      "source": [
        "#### A13\n",
        "\n",
        "Suskaičiuokite kiek narių yra jūsų naujajame sąraše. (`len()`)\n",
        "\n",
        "Pakeiskite n-tąjį narį verte m (paprašykite įvesti vertes n ir m). (`input()`). m turėtų būti vienaženklis skaičius. Sąrašą vėl išrikiuokite didėjimo tvarka.\n",
        "\n",
        "Pvz:\n",
        "\n",
        "\"Dabar sąraše yra 15 skaitmenų, kurį skaitmenį norite pakeisti? \"\n",
        "\n",
        "10\n",
        "\n",
        "\"Kokį skaitmenį norite įrašyti į 10 vietą? \"\n",
        "\n",
        "9"
      ],
      "metadata": {
        "id": "u9x2yL-POsCg"
      },
      "id": "u9x2yL-POsCg"
    },
    {
      "cell_type": "code",
      "source": [],
      "metadata": {
        "id": "BGb-KxneeCVU"
      },
      "id": "BGb-KxneeCVU",
      "execution_count": null,
      "outputs": []
    },
    {
      "cell_type": "markdown",
      "id": "adba02f2",
      "metadata": {
        "id": "adba02f2"
      },
      "source": [
        "## B užduotis\n",
        "\n",
        "Parašykite primityvų kriptografijos algoritmą:"
      ]
    },
    {
      "cell_type": "markdown",
      "id": "2af4675c",
      "metadata": {
        "heading_collapsed": true,
        "id": "2af4675c"
      },
      "source": [
        "#### B1\n",
        "\n",
        "Sukurkite kintamąjį:\n",
        "\n",
        "```python\n",
        "letters = \"abcdefghijklmnopqrstuvwxyz \"\n",
        "message = \"slapti egzamino uzduociu atsakymai\"\n",
        "```"
      ]
    },
    {
      "cell_type": "code",
      "execution_count": null,
      "id": "48fee102",
      "metadata": {
        "hidden": true,
        "id": "48fee102"
      },
      "outputs": [],
      "source": [
        "letters = \"abcdefghijklmnopqrstuvwxyz \"\n",
        "message = \"slapti egzamino uzduociu atsakymai\""
      ]
    },
    {
      "cell_type": "markdown",
      "id": "2abb425c",
      "metadata": {
        "heading_collapsed": true,
        "id": "2abb425c"
      },
      "source": [
        "#### B2\n",
        "\n",
        "Sumaišykite kintamojo ``letters`` raidžių tvarką. Rezultatą užsaugokite naujame kintamajame ``code``.\n",
        "\n",
        "Užuomina: https://stackoverflow.com/questions/2668312/shuffle-string-in-python"
      ]
    },
    {
      "cell_type": "code",
      "execution_count": null,
      "id": "d63ed397",
      "metadata": {
        "hidden": true,
        "id": "d63ed397"
      },
      "outputs": [],
      "source": []
    },
    {
      "cell_type": "markdown",
      "id": "bcaddabe",
      "metadata": {
        "heading_collapsed": true,
        "id": "bcaddabe"
      },
      "source": [
        "#### B3\n",
        "\n",
        "Užkoduokite kintamąjį ``message`` pakeisdami raides pagal ``code`` tvarką.\n",
        "\n",
        "Pavyzdžiui, jei ``code = \"ijk...\"``, tada raidė ``a`` turi būti pakeista raide ``i``, raidė ``b`` - raide ``j``, raidė ``c`` - raide ``k``, ir t.t.\n",
        "\n",
        "Rezultatą atspausdinkite. Užuominos:\n",
        "\n",
        "https://www.w3schools.com/python/python_for_loops.asp\n",
        "\n",
        "https://stackoverflow.com/questions/2294493/how-to-get-the-position-of-a-character-in-python"
      ]
    },
    {
      "cell_type": "code",
      "execution_count": null,
      "id": "a65984d1",
      "metadata": {
        "hidden": true,
        "id": "a65984d1"
      },
      "outputs": [],
      "source": []
    },
    {
      "cell_type": "markdown",
      "id": "53c0ef17",
      "metadata": {
        "heading_collapsed": true,
        "id": "53c0ef17"
      },
      "source": [
        "#### B4\n",
        "\n",
        "Pasinaudodami kodu\n",
        "\n",
        "```python\n",
        "code = \"zxfdbhtja epqucovgwlsykmnir\"\n",
        "```\n",
        "\n",
        "atkoduokite žinutę\n",
        "\n",
        "```python\n",
        "message = \"zlb zsrozqzfazsrustzpb zs\"\n",
        "```\n",
        "\n",
        "Rezultatą atspausdinkite."
      ]
    },
    {
      "cell_type": "code",
      "execution_count": null,
      "id": "52a14ce0",
      "metadata": {
        "hidden": true,
        "id": "52a14ce0"
      },
      "outputs": [],
      "source": [
        "code    = \"zxfdbhtja epqucovgwlsykmnir\"\n",
        "letters = \"abcdefghijklmnopqrstuvwxyz \"\n",
        "message = \"zlb zsrozqzfazsrustzpb zs\""
      ]
    },
    {
      "cell_type": "code",
      "execution_count": null,
      "id": "62d5e203",
      "metadata": {
        "hidden": true,
        "id": "62d5e203"
      },
      "outputs": [],
      "source": []
    },
    {
      "cell_type": "markdown",
      "id": "7f454b2f",
      "metadata": {
        "id": "7f454b2f"
      },
      "source": [
        "## Sandbox"
      ]
    },
    {
      "cell_type": "code",
      "execution_count": null,
      "id": "89a48d91",
      "metadata": {
        "id": "89a48d91"
      },
      "outputs": [],
      "source": []
    }
  ],
  "metadata": {
    "kernelspec": {
      "display_name": "Python 3",
      "name": "python3"
    },
    "language_info": {
      "codemirror_mode": {
        "name": "ipython",
        "version": 3
      },
      "file_extension": ".py",
      "mimetype": "text/x-python",
      "name": "python",
      "nbconvert_exporter": "python",
      "pygments_lexer": "ipython3",
      "version": "3.9.6"
    },
    "latex_envs": {
      "LaTeX_envs_menu_present": true,
      "autoclose": false,
      "autocomplete": true,
      "bibliofile": "biblio.bib",
      "cite_by": "apalike",
      "current_citInitial": 1,
      "eqLabelWithNumbers": true,
      "eqNumInitial": 1,
      "hotkeys": {
        "equation": "Ctrl-E",
        "itemize": "Ctrl-I"
      },
      "labels_anchors": false,
      "latex_user_defs": false,
      "report_style_numbering": false,
      "user_envs_cfg": false
    },
    "colab": {
      "provenance": [],
      "generative_ai_disabled": true
    }
  },
  "nbformat": 4,
  "nbformat_minor": 5
}