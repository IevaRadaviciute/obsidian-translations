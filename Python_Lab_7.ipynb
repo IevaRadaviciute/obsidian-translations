{
  "cells": [
    {
      "cell_type": "markdown",
      "id": "9661feed",
      "metadata": {
        "id": "9661feed"
      },
      "source": [
        "## Programavimo įvado pratybos\n",
        "\n",
        "- Python komandoms prisiminti: ``https://www.w3schools.com/python/``\n",
        "- Naudingos Powershell komandos:\n",
        "\n",
        "    - `ls` - pažiūrėti katalogo turinį\n",
        "\n",
        "    - `md` - sukurti naują katalogą\n",
        "\n",
        "    - `cd` - pereiti į katalogą / iš katalogo\n",
        "\n",
        "    - `ni p6.py` - sukuria naują bylą vardu `p6.py`\n",
        "\n",
        "    - `python p6.py` - kompiliuoja Python programą\n",
        "    \n",
        "- Kairėje google Colab menu juostoje, pasirinkę aplanko ikoną, matysite sesijos metu sukurtų (ar įkeltų nuskaitymui) failų sąrašą.\n",
        "- Įkeldami failą nekeiskite direktorijos. Jei visgi taip įvyko, tiek duomenų failas, tiek ir jūsų sukuriami failai yra direktorijoje `content`."
      ]
    },
    {
      "cell_type": "markdown",
      "id": "3f5df523",
      "metadata": {
        "id": "3f5df523"
      },
      "source": [
        "### A1\n",
        "\n",
        "Parašykite funkciją, pavadinkite vardu `informacija`.\n",
        "Ji turėtų tiesiog atspausdinti `Vyksta programavimo pratybos`."
      ]
    },
    {
      "cell_type": "code",
      "execution_count": 1,
      "id": "8aeef7a1",
      "metadata": {
        "id": "8aeef7a1",
        "outputId": "27271434-7102-4aeb-d736-df88dabe1a3a",
        "colab": {
          "base_uri": "https://localhost:8080/"
        }
      },
      "outputs": [
        {
          "output_type": "stream",
          "name": "stdout",
          "text": [
            "Vyksta programavimo pratybos\n"
          ]
        }
      ],
      "source": [
        "def informacija():\n",
        "  print(\"Vyksta programavimo pratybos\")\n",
        "\n",
        "informacija()"
      ]
    },
    {
      "cell_type": "markdown",
      "id": "9ba19c18",
      "metadata": {
        "id": "9ba19c18"
      },
      "source": [
        "### A2\n",
        "\n",
        "Parašykite funkciją, pavadinimu `is_number()` kuriai pateikiamas vienas parametras.\n",
        "\n",
        "Ji turi patikrinti ar pateiktas dydis/kintamasis/objektas yra skaičiaus reprezentacija ar ne.\n",
        "\n",
        "Funkcija turi grąžinti True arba False reikšmes. Pavyzdžiui tiek 3 tiek \"3\" yra skaičiai, tuo tarpu \"b\" arba \"3?\" - nėra skaičiai.\n",
        "\n",
        "\n",
        "```\n",
        "print (is_number(\"a\"))\n",
        "\n",
        "False\n",
        "```\n",
        "\n",
        "Užuomina: Pasinaudokite `try/except`."
      ]
    },
    {
      "cell_type": "code",
      "execution_count": 6,
      "id": "e361ed6d",
      "metadata": {
        "id": "e361ed6d",
        "outputId": "c4446290-d075-457d-e61e-1a74d800ba21",
        "colab": {
          "base_uri": "https://localhost:8080/"
        }
      },
      "outputs": [
        {
          "output_type": "execute_result",
          "data": {
            "text/plain": [
              "True"
            ]
          },
          "metadata": {},
          "execution_count": 6
        }
      ],
      "source": [
        "def is_number(x):\n",
        "  try:\n",
        "    float(x)\n",
        "    return True\n",
        "  except:\n",
        "    return False\n",
        "\n",
        "is_number(\"5\")"
      ]
    },
    {
      "cell_type": "markdown",
      "id": "74007c71",
      "metadata": {
        "id": "74007c71"
      },
      "source": [
        "### A3\n",
        "\n",
        "Parašykite funkciją, kuri suranda absoliutinį atstumą tarp dviejų taškų.\n",
        "\n",
        "Funkcijai pateikite vertes x1 ir x2\n",
        "\n",
        "Pavyzdžiui kodas:\n",
        "```\n",
        "print (atstumas(0,6))\n",
        "```\n",
        "Turėtų atspausdinti:\n",
        "```\n",
        "6\n",
        "```\n"
      ]
    },
    {
      "cell_type": "code",
      "execution_count": 21,
      "id": "eb5f467b",
      "metadata": {
        "id": "eb5f467b",
        "outputId": "6edb8306-a0f5-4b9a-a4e2-fa584a66c68b",
        "colab": {
          "base_uri": "https://localhost:8080/"
        }
      },
      "outputs": [
        {
          "output_type": "stream",
          "name": "stdout",
          "text": [
            "5\n"
          ]
        }
      ],
      "source": [
        "def atstumas(x1, x2):\n",
        "  print(abs(x2-x1))    #suskaičiuojamas atstumas tarp 2 taškų X ašyje\n",
        "\n",
        "atstumas(0,5)\n"
      ]
    },
    {
      "cell_type": "markdown",
      "id": "8e80daee",
      "metadata": {
        "id": "8e80daee"
      },
      "source": [
        "### A4\n",
        "\n",
        "Papildykite A3 užduoties kodą, kad funkciją surastų atstumą tarp dviejų koordinačių taškų `(x1, y1)` ir `(x2, y2)` [Dekarto](https://en.wikipedia.org/wiki/Cartesian_coordinate_system) koordinačių sistemoje.\n",
        "\n",
        "Užuomina: Pateikite du argumentus (lists ar tuples) kuriuose būtų po dvi vertes (x ir y)."
      ]
    },
    {
      "cell_type": "code",
      "execution_count": 42,
      "id": "c5b0b48a",
      "metadata": {
        "id": "c5b0b48a",
        "outputId": "f3d8d72a-22fb-4f5c-e07b-b3e3cc259c7b",
        "colab": {
          "base_uri": "https://localhost:8080/"
        }
      },
      "outputs": [
        {
          "output_type": "stream",
          "name": "stdout",
          "text": [
            "4.242640687119285\n"
          ]
        }
      ],
      "source": [
        "def atstumas_xy(coord1, coord2):\n",
        "  X = abs(coord2[0]-coord1[0])    #Suskaičiuoja atstumą X ašyje\n",
        "  Y = abs(coord2[0]-coord1[0])    #Suskaičiuoja atstumą Y ašyje\n",
        "  ilgis = (X**2 + Y**2)**0.5\n",
        "  return ilgis\n",
        "\n",
        "print(atstumas_xy((0,0), (3,3)))"
      ]
    },
    {
      "cell_type": "markdown",
      "id": "ddf37a9c",
      "metadata": {
        "id": "ddf37a9c"
      },
      "source": [
        "### A5\n",
        "\n",
        "Parašykite funkciją, kuri apskaičiuotų vidutinį greitį. Pateikite keturis parametrus - x0, x1, t0, t1."
      ]
    },
    {
      "cell_type": "code",
      "execution_count": 44,
      "id": "16faac7d",
      "metadata": {
        "id": "16faac7d",
        "outputId": "d025ca93-42b3-4015-bba4-2358b38e3552",
        "colab": {
          "base_uri": "https://localhost:8080/"
        }
      },
      "outputs": [
        {
          "output_type": "stream",
          "name": "stdout",
          "text": [
            "Vidutinis greitis yra:  30.0\n"
          ]
        }
      ],
      "source": [
        "def vidutinis_greitis(x0, x1, t0, t1):\n",
        "  greitis = (x1-x0)/(t1-t0)     #Suskaičiuoja vidutinį greitį\n",
        "  return abs(greitis)           #Grąžina teigiamą vertę, nes ne vektorius\n",
        "\n",
        "print(\"Vidutinis greitis yra: \", vidutinis_greitis(0, 150, 0, 5))"
      ]
    },
    {
      "cell_type": "markdown",
      "id": "c10bc102",
      "metadata": {
        "id": "c10bc102"
      },
      "source": [
        "### A6\n",
        "\n",
        "Parašykite funkciją, kuri priimtų vieną argumentą T (temperatūrą) ir atspausdintų `kietas būvis` jei T <= 0 ir `skystas būvis` jei T daugiau už nulį, ir `dujinis būvis` jei T daugiau už 100 laipsnių."
      ]
    },
    {
      "cell_type": "code",
      "execution_count": 48,
      "id": "32ddb05b",
      "metadata": {
        "id": "32ddb05b",
        "outputId": "f9a5b814-b024-4b9f-a869-378a5daca73e",
        "colab": {
          "base_uri": "https://localhost:8080/"
        }
      },
      "outputs": [
        {
          "output_type": "stream",
          "name": "stdout",
          "text": [
            "Skystas būvis\n"
          ]
        }
      ],
      "source": [
        "\n",
        "def būvis(T):\n",
        "  x = 0\n",
        "  if T<= 0:\n",
        "    print(\"Kietas būvis\")\n",
        "  elif T > 0 and T < 100:\n",
        "    print(\"Skystas būvis\")\n",
        "  else:\n",
        "    print(\"Dujinis būvis\")\n",
        "\n",
        "būvis(64)"
      ]
    },
    {
      "cell_type": "code",
      "source": [
        "def state(T):\n",
        "  print(\"Gas\" if T>100 else \"Liquid\" if T>0 and T<100 else \"Solid\")\n",
        "\n",
        "state(-10)"
      ],
      "metadata": {
        "id": "KxWam235Qvv5",
        "outputId": "fca95ed2-6c4d-4cb7-fee0-241b843a57ac",
        "colab": {
          "base_uri": "https://localhost:8080/"
        }
      },
      "id": "KxWam235Qvv5",
      "execution_count": 49,
      "outputs": [
        {
          "output_type": "stream",
          "name": "stdout",
          "text": [
            "Solid\n"
          ]
        }
      ]
    },
    {
      "cell_type": "markdown",
      "id": "W1Jtjy-ujzei",
      "metadata": {
        "id": "W1Jtjy-ujzei"
      },
      "source": [
        "### A7\n",
        "\n",
        "Parašykite funkciją, kuri priimtų du argumentus - du sąrašus (L1 ir L2), ir grąžintų trečią sąrašą - šių dviejų sąrašų sumą, kuomet pirmo sąrašo pirmas narys sudedamas su pirmuoju antro sąrašo, antras su antruoju ir t.t.\n",
        "\n",
        "Turite gauti atsakymą:\n",
        "\n",
        "`[6, 13, 15, 4, 3]`\n",
        "\n",
        "Sąrašai jums pateikti."
      ]
    },
    {
      "cell_type": "code",
      "execution_count": 58,
      "id": "h3WwPh12kSzE",
      "metadata": {
        "id": "h3WwPh12kSzE",
        "outputId": "2e96e15b-dd19-494d-d18e-1d77b81bffd9",
        "colab": {
          "base_uri": "https://localhost:8080/"
        }
      },
      "outputs": [
        {
          "output_type": "stream",
          "name": "stdout",
          "text": [
            "[6, 13, 15, 4, 3]\n"
          ]
        }
      ],
      "source": [
        "A = [1, 12, 14, 2, 1]\n",
        "B = [5, 1, 1, 2, 2]\n",
        "\n",
        "def suma(L1, L2):\n",
        "  L3 = []\n",
        "  for i in range(len(L1)):\n",
        "    L3.append(L1[i] + L2[i])\n",
        "  return L3\n",
        "\n",
        "print(suma(A, B))"
      ]
    },
    {
      "cell_type": "markdown",
      "id": "0aa69f4c",
      "metadata": {
        "id": "0aa69f4c"
      },
      "source": [
        "### A8\n",
        "\n",
        "Parašykite funkciją kuri sukurtų verčių imtį, jūsų pasirinktu žingsniu ir intervalu. Vertes supvalinkite iki 2 skaitmenų po kablelio. Parinkite numatytąją žingsnio vertę - 0.1.\n",
        "\n",
        "Pvz jei pateikiate parametrus `vertes(0, 5, 0.5)` turite gauti sąrašą, kuriame yra `[0, 0.5, 1, 1.5, 2, 2.5, 3, 3.5, 4, 4.5, 5]`."
      ]
    },
    {
      "cell_type": "code",
      "execution_count": null,
      "id": "363cc2e8",
      "metadata": {
        "id": "363cc2e8"
      },
      "outputs": [],
      "source": []
    },
    {
      "cell_type": "markdown",
      "id": "70975bd3",
      "metadata": {
        "id": "70975bd3"
      },
      "source": [
        "### A9\n",
        "\n",
        "Parašykite funkciją, kuri, pateikus sąrašą, pateiktų jo statistiką. Atspausdinkite suprantamu formatu (spausdinimą įrašykite pačioje funkcijoje)\n",
        "\n",
        "Pavyzdžiui:\n",
        "\n",
        "```\n",
        "maziausias, didziausias, vidurkis = statistika(L1)\n",
        "\n",
        ">>>\n",
        "Pateiktų duomenų didžiausia vertė ...\n",
        "Pateiktų duomenų mažiausia vertė ...\n",
        "Pateikto sąrašo vidurkis ....\n",
        "```\n",
        "\n"
      ]
    },
    {
      "cell_type": "code",
      "execution_count": null,
      "id": "ec8f5535",
      "metadata": {
        "hidden": true,
        "id": "ec8f5535"
      },
      "outputs": [],
      "source": []
    },
    {
      "cell_type": "markdown",
      "id": "5465b090",
      "metadata": {
        "heading_collapsed": true,
        "id": "5465b090"
      },
      "source": [
        "### A10\n",
        "\n",
        "Matematikoje galime rasti įvairių įdomių problemų. Viena tokių, yra [Collatz](https://en.wikipedia.org/wiki/Collatz_conjecture) hipotezė. Kuri teigia, kad jei mes turime betkokį teigiamą skaičių, jei seksime tam tikras instrukcijas, galiausiai pasieksime skaičių 1.\n",
        "\n",
        "Instrukcijos yra:\n",
        "- Jei skaičius lyginis - padaliname iš dviejų (n/2)\n",
        "- Jei skaičius nelyginis - padauginame iš trijų, ir pridedame vieną (3n+1)\n",
        "\n",
        "Parašykite funkciją, kuri priimtų vieną parametrą - skaičių, apskaičiuotų visas įgyjamas vertes, įrašytų į failą, vieno stulpelio formatu, kurio vardas būtų pateiktas skaičius.txt. Pavyzdžiui 5.txt turėtų atrodyti taip:\n",
        "\n",
        "```\n",
        "5\n",
        "16\n",
        "8\n",
        "4\n",
        "2\n",
        "1\n",
        "```\n",
        "\n",
        "Vertes taip pat atspausdinkite ekrane vienoje eilutėje."
      ]
    },
    {
      "cell_type": "code",
      "execution_count": null,
      "id": "2ee9a8c7",
      "metadata": {
        "hidden": true,
        "id": "2ee9a8c7"
      },
      "outputs": [],
      "source": []
    },
    {
      "cell_type": "markdown",
      "id": "1b300a24",
      "metadata": {
        "heading_collapsed": true,
        "id": "1b300a24"
      },
      "source": [
        "### B1.\n",
        "\n",
        "Parašykite funkciją kuri nuskaitytų pasirinktų failo stulpelių duomenis. Duomenų failas pateiktas VMA sistemoje.\n",
        "\n",
        "Jei užduotis atliekate google colab aplinkoje, įsikelkite failą kairėje pusėje paspaudę direktorijos paveiksliuką. Failą įkelkite į pateiktą direktoriją šalia `sample_data` direktorijos.\n",
        "\n",
        "Jeigu matote daugiau nei `sample_data` direktoriją, failą reikia įkelti į `content` aplanką.\n",
        "\n",
        "Pirmiausia peržiūrėkite failą, įvertinkite jo struktūrą (kaip atskirti stulpeliai, kaip atrodo stulpelių pavadinimai ir pan.)\n",
        "\n",
        "Funkcija turi priimti du parametrus: failo vardą, ir neapibrėžtą skaičių stulpelių numerių. Pvz. `duomenys = funkcija(\"failas.txt\", 1)` arba `duomenys = funkcija(\"failas.txt\", 1, 2, 3)`\n",
        "\n",
        "- Atidarykite failą (naudokite `with open(filename) as failas:`)\n",
        "- Nuskaitykite pirmą eilutę, ten yra stulpelių pavadinimai\n",
        "- Stulpelių duomenis surašykite į žodyną `key:value` poromis, kur `key` - stulpelio vardas, `value` - stulpelio vertės sąraše. Duomenys turi būti pasiekiami `duomenys[\"stulpelio vardas\"]`."
      ]
    },
    {
      "cell_type": "code",
      "execution_count": null,
      "id": "KJh65pDxp8V2",
      "metadata": {
        "id": "KJh65pDxp8V2"
      },
      "outputs": [],
      "source": []
    },
    {
      "cell_type": "markdown",
      "id": "0d3e1f2b",
      "metadata": {
        "id": "0d3e1f2b"
      },
      "source": [
        "## Sandbox"
      ]
    },
    {
      "cell_type": "code",
      "execution_count": null,
      "id": "3b055534",
      "metadata": {
        "id": "3b055534"
      },
      "outputs": [],
      "source": []
    },
    {
      "cell_type": "markdown",
      "id": "45ec25b9",
      "metadata": {
        "id": "45ec25b9"
      },
      "source": [
        "---"
      ]
    }
  ],
  "metadata": {
    "colab": {
      "generative_ai_disabled": true,
      "provenance": []
    },
    "kernelspec": {
      "display_name": "Python 3",
      "name": "python3"
    },
    "language_info": {
      "codemirror_mode": {
        "name": "ipython",
        "version": 3
      },
      "file_extension": ".py",
      "mimetype": "text/x-python",
      "name": "python",
      "nbconvert_exporter": "python",
      "pygments_lexer": "ipython3",
      "version": "3.13.9"
    },
    "latex_envs": {
      "LaTeX_envs_menu_present": true,
      "autoclose": false,
      "autocomplete": true,
      "bibliofile": "biblio.bib",
      "cite_by": "apalike",
      "current_citInitial": 1,
      "eqLabelWithNumbers": true,
      "eqNumInitial": 1,
      "hotkeys": {
        "equation": "Ctrl-E",
        "itemize": "Ctrl-I"
      },
      "labels_anchors": false,
      "latex_user_defs": false,
      "report_style_numbering": false,
      "user_envs_cfg": false
    }
  },
  "nbformat": 4,
  "nbformat_minor": 5
}