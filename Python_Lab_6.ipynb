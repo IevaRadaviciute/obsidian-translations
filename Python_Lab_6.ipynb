{
  "cells": [
    {
      "cell_type": "markdown",
      "id": "9661feed",
      "metadata": {
        "id": "9661feed"
      },
      "source": [
        "## Programavimo įvado pratybos\n",
        "\n",
        "- Python komandoms prisiminti: ``https://www.w3schools.com/python/``\n",
        "- Naudingos Powershell komandos:\n",
        "\n",
        "    - `ls` - pažiūrėti katalogo turinį\n",
        "\n",
        "    - `md` - sukurti naują katalogą\n",
        "\n",
        "    - `cd` - pereiti į katalogą / iš katalogo\n",
        "\n",
        "    - `ni p6.py` - sukuria naują bylą vardu `p6.py`\n",
        "\n",
        "    - `python p6.py` - kompiliuoja Python programą"
      ]
    },
    {
      "cell_type": "markdown",
      "source": [
        "Kairėje google Colab menu juostoje, pasirinkę aplanko ikoną, matysite sesijos metu sukurtų (ar įkeltų nuskaitymui) failų sąrašą."
      ],
      "metadata": {
        "id": "bSPsdtAFAEOa"
      },
      "id": "bSPsdtAFAEOa"
    },
    {
      "cell_type": "markdown",
      "id": "3f5df523",
      "metadata": {
        "id": "3f5df523"
      },
      "source": [
        "### A1\n",
        "\n",
        "Paprašykite įvesti failo vardą. Sukurkite naują failą tokiu pavadinimu. Paprašykite įvesti studento vardą, studijuojamo dalyko pavadinimą, kursą ir pogrupį. Įrašykite šiuos duomenis į failą. Duomenys turi būti įrašyti vienoje eilutėje, atskirti kableliais arba tarpais.\n",
        "\n",
        "Pavyzdys:  \n",
        "\n",
        "```\n",
        "Įveskite failo vardą: studentai.txt\n",
        "Įveskite studento vardą: Jonas\n",
        "Įveskite studijuojamo dalyko pavadinimą: Fizika\n",
        "Įveskite kursą: 1\n",
        "Įveskite pogrupį: A\n",
        "```\n",
        "\n",
        "studentai.txt:\n",
        "\n",
        "```\n",
        "Jonas, Fizika, 1, A\n",
        "```"
      ]
    },
    {
      "cell_type": "code",
      "execution_count": 23,
      "id": "8aeef7a1",
      "metadata": {
        "id": "8aeef7a1",
        "outputId": "c25e2dd3-a1d9-4710-a827-d8ead863f281",
        "colab": {
          "base_uri": "https://localhost:8080/"
        }
      },
      "outputs": [
        {
          "name": "stdout",
          "output_type": "stream",
          "text": [
            "Įveskite failo vardą: studentai.txt\n",
            "Įveskite studento vardą: Ieva\n",
            "Įveskite studijuojamo dalyko pavadinimą: Fizika\n",
            "Įveskite kursą: 1\n",
            "Įveskite pogrupį: 5\n"
          ]
        }
      ],
      "source": [
        "failas = input(\"Įveskite failo vardą: \")\n",
        "vardas = input(\"Įveskite studento vardą: \")\n",
        "kryptis = input(\"Įveskite studijuojamo dalyko pavadinimą: \")\n",
        "kursas = input(\"Įveskite kursą: \")\n",
        "pogrupis = input(\"Įveskite pogrupį: \")\n",
        "\n",
        "file = open(failas, \"w\")  #\"w\" - write\n",
        "file.write(f\"{vardas}, {kryptis}, {kursas}, {pogrupis}\\n\")\n",
        "file.close()\n"
      ]
    },
    {
      "cell_type": "markdown",
      "id": "74007c71",
      "metadata": {
        "id": "74007c71"
      },
      "source": [
        "### A2.\n",
        "\n",
        "Paprašykite įvesti failo vardą ir įveskite failo iš pirmosios užduoties vardą. Tada paprašykite įvesti naują studento vardą, studijuojamo dalyko pavadinimą, kursą ir pogrupį. Šiuos duomenis pridėkite antroje failo eilutėje tokiu pat būdu (atskirtus tarpais arba eilutėmis) kaip darėte pirmoje užduotyje.\n",
        "\n",
        "Pavyzdys:\n",
        "\n",
        "```\n",
        "Įveskite failo vardą: studentai.txt\n",
        "Įveskite studento vardą: Gabija\n",
        "Įveskite studijuojamo dalyko pavadinimą: Matematika\n",
        "Įveskite kursą: 2\n",
        "Įveskite pogrupį: B\n",
        "```\n",
        "\n",
        "studentai.txt:\n",
        "\n",
        "```\n",
        "Jonas, Fizika, 1, A\n",
        "Gabija, Matematika, 2, B\n",
        "```"
      ]
    },
    {
      "cell_type": "code",
      "execution_count": 24,
      "id": "eb5f467b",
      "metadata": {
        "id": "eb5f467b",
        "outputId": "d67b59ef-744f-43b1-ee57-4c6e33e32fbc",
        "colab": {
          "base_uri": "https://localhost:8080/"
        }
      },
      "outputs": [
        {
          "name": "stdout",
          "output_type": "stream",
          "text": [
            "Įveskite failo vardą: studentai.txt\n",
            "Įveskite studento vardą: Agnė\n",
            "Įveskite studijuojamo dalyko pavadinimą: Fizika\n",
            "Įveskite kursą: 1\n",
            "Įveskite pogrupį: 5\n"
          ]
        }
      ],
      "source": [
        "failas = input(\"Įveskite failo vardą: \")\n",
        "vardas = input(\"Įveskite studento vardą: \")\n",
        "kryptis = input(\"Įveskite studijuojamo dalyko pavadinimą: \")\n",
        "kursas = input(\"Įveskite kursą: \")\n",
        "pogrupis = input(\"Įveskite pogrupį: \")\n",
        "\n",
        "file = open(failas, \"a\")  #\"a\" - append\n",
        "file.write(f\"{vardas}, {kryptis}, {kursas}, {pogrupis}\\n\")\n",
        "file.close()\n"
      ]
    },
    {
      "cell_type": "markdown",
      "id": "8e80daee",
      "metadata": {
        "id": "8e80daee"
      },
      "source": [
        "### A3.\n",
        "\n",
        "Parašykite kodą, kuris nuskaitytų jūsų sukurtą failą, ir atspausdintu kiekvieną eilutę atskirai, be tarpų ir naujų eilučių `\\n` simbolių."
      ]
    },
    {
      "cell_type": "code",
      "execution_count": 25,
      "id": "c5b0b48a",
      "metadata": {
        "id": "c5b0b48a",
        "outputId": "51e8458f-1eac-4c91-a05e-c90890d033f1",
        "colab": {
          "base_uri": "https://localhost:8080/"
        }
      },
      "outputs": [
        {
          "output_type": "stream",
          "name": "stdout",
          "text": [
            "Ieva, Fizika, 1, 5\n",
            "Agnė, Fizika, 1, 5\n"
          ]
        }
      ],
      "source": [
        "failas = open(\"studentai.txt\", \"r\")\n",
        "for eilute in failas:\n",
        "  print(eilute.strip())\n",
        "failas.close()"
      ]
    },
    {
      "cell_type": "markdown",
      "id": "ddf37a9c",
      "metadata": {
        "id": "ddf37a9c"
      },
      "source": [
        "### A4.\n",
        "\n",
        "Perrašykite trečios užduoties kodą panaudodami `with open()` sintaksę."
      ]
    },
    {
      "cell_type": "code",
      "execution_count": 26,
      "id": "16faac7d",
      "metadata": {
        "id": "16faac7d",
        "outputId": "0335c95e-8b55-4764-9ac6-1be34ed8e70f",
        "colab": {
          "base_uri": "https://localhost:8080/"
        }
      },
      "outputs": [
        {
          "output_type": "stream",
          "name": "stdout",
          "text": [
            "Ieva, Fizika, 1, 5\n",
            "Agnė, Fizika, 1, 5\n"
          ]
        }
      ],
      "source": [
        "with open(\"studentai.txt\", \"r\") as duomenys:\n",
        "  for line in duomenys:\n",
        "    print(line.strip())\n",
        ""
      ]
    },
    {
      "cell_type": "markdown",
      "id": "c10bc102",
      "metadata": {
        "id": "c10bc102"
      },
      "source": [
        "### A5.\n",
        "\n",
        "Papildykite prieš tai buvusios užduoties kodą taip, kad stulpelių duomenys būtų sudėti į atskirus sąrašus, pvz. `vardai = []`, `stud_dalykai = []` ir t.t."
      ]
    },
    {
      "cell_type": "code",
      "execution_count": 27,
      "id": "32ddb05b",
      "metadata": {
        "id": "32ddb05b",
        "outputId": "a2c4f88f-cf55-497f-f796-b79fa5d8bcb7",
        "colab": {
          "base_uri": "https://localhost:8080/"
        }
      },
      "outputs": [
        {
          "output_type": "stream",
          "name": "stdout",
          "text": [
            "['Ieva', 'Agnė'] [' Fizika', ' Fizika'] [' 1', ' 1'] [' 5', ' 5']\n"
          ]
        }
      ],
      "source": [
        "vardai = []\n",
        "kryptys = []\n",
        "kursai = []\n",
        "pogrupiai = []\n",
        "\n",
        "with open(\"studentai.txt\", \"r\") as info:\n",
        "  for line in info:\n",
        "    line = line.strip().split(\",\")\n",
        "    vardai.append(line[0])\n",
        "    kryptys.append(line[1])\n",
        "    kursai.append(line[2])\n",
        "    pogrupiai.append(line[3])\n",
        "print(vardai, kryptys, kursai, pogrupiai)"
      ]
    },
    {
      "cell_type": "markdown",
      "id": "W1Jtjy-ujzei",
      "metadata": {
        "id": "W1Jtjy-ujzei"
      },
      "source": [
        "### A6.\n",
        "\n",
        "Pakoreguokite A5 užduoties kodą, sukurdami žodyną, kuriame duomenys būtų pasiekiami pagal žodyno key (rakto) pasirinkimą. Pvz. `duomenys[\"vardai\"]` grąžintų sąrašą su visais duomenų faile esančiais vardais."
      ]
    },
    {
      "cell_type": "code",
      "execution_count": 28,
      "id": "h3WwPh12kSzE",
      "metadata": {
        "id": "h3WwPh12kSzE",
        "outputId": "822e082b-f942-4d6f-d55e-33a9f230d5e9",
        "colab": {
          "base_uri": "https://localhost:8080/"
        }
      },
      "outputs": [
        {
          "output_type": "stream",
          "name": "stdout",
          "text": [
            "{'vardai': ['Ieva', 'Agnė'], 'kryptys': [' Fizika', ' Fizika'], 'kursai': [' 1', ' 1'], 'pogrupiai': [' 5', ' 5']}\n"
          ]
        }
      ],
      "source": [
        "zmogus = {\"vardai\": [], \"kryptys\": [], \"kursai\": [], \"pogrupiai\": []}     #sukuriu naują žodyną\n",
        "\n",
        "with open(\"studentai.txt\", \"r\") as info:\n",
        "  for line in info:\n",
        "    line = line.strip().split(\",\")        #atskiriu duomenis\n",
        "    zmogus[\"vardai\"].append(line[0])      #pridedu vertes į žodyną\n",
        "    zmogus[\"kryptys\"].append(line[1])\n",
        "    zmogus[\"kursai\"].append(line[2])\n",
        "    zmogus[\"pogrupiai\"].append(line[3])\n",
        "print(zmogus)"
      ]
    },
    {
      "cell_type": "markdown",
      "id": "70975bd3",
      "metadata": {
        "id": "70975bd3"
      },
      "source": [
        "### A7.\n",
        "\n",
        "A7-A10 užduotims atlikti reikės `duomenys.txt` failo. Jeigu nepavyks jo įkelti į google colab, susikurkite savo kompiuteryje direktoriją, atsisiųskite šią užduoti kaip .py failą, šalia jo iš VMA atsisiųskite `duomenys.txt` failą. kodą paleiskite `python Python_Lab_6.py duomenys.txt`.\n",
        "\n",
        "Faile `duomenys.txt` įrašyti žvaigždės spektro apdorojimo duomenys. Jo pradžioje yra dvi eilutės `header`'io - papildomos informacijos, lentelė prasideda nuo trečios eilutės.\n",
        "\n",
        "```\n",
        "Radial velocity =   -37.792  dispersion =   0.772  FWHM =   6.906, 1,199 lines matched out of 7,701\n",
        "Relative flux dispersion__1n residual spectrum = 2.861%\n",
        "4100.234  4100.751    100.8  19.31   4.465\n",
        "4100.740  4101.257     82.2   7.83   1.258\n",
        "4101.180  4101.697    328.3   5.24   6.422\n",
        "4101.607  4102.124     66.2   9.78   2.160\n",
        "...\n",
        "```"
      ]
    },
    {
      "cell_type": "markdown",
      "id": "86784548",
      "metadata": {
        "heading_collapsed": true,
        "id": "86784548"
      },
      "source": [
        "Nuskaitykite visą nurodyto failo turinį ir suskaiciuokite jame esančių eilučių skaičių. Rezultatą atspausdinkite."
      ]
    },
    {
      "cell_type": "code",
      "execution_count": 38,
      "id": "ec8f5535",
      "metadata": {
        "hidden": true,
        "id": "ec8f5535",
        "outputId": "447ea854-a405-492c-f1d6-4e4487f85122",
        "colab": {
          "base_uri": "https://localhost:8080/",
          "height": 70
        }
      },
      "outputs": [
        {
          "output_type": "stream",
          "name": "stdout",
          "text": [
            "5722\n"
          ]
        },
        {
          "output_type": "execute_result",
          "data": {
            "text/plain": [
              "'\\nfileName = \"duomenys.txt\"\\nfile = open(fileName, \"r\") as info:\\ndata = file.readlines()\\nfile.close()\\nprint(f\"File {fileName} contains {len(data)} lines\")\\n'"
            ],
            "application/vnd.google.colaboratory.intrinsic+json": {
              "type": "string"
            }
          },
          "metadata": {},
          "execution_count": 38
        }
      ],
      "source": [
        "eiluciu_sk = 0\n",
        "with open(\"duomenys.txt\", \"r\") as info:\n",
        "  for line in info:\n",
        "    eiluciu_sk = eiluciu_sk + 1\n",
        "eiluciu_sk = eiluciu_sk\n",
        "print(eiluciu_sk)\n",
        "\n",
        "\"\"\"\n",
        "fileName = \"duomenys.txt\"\n",
        "file = open(fileName, \"r\") as info:\n",
        "data = file.readlines()\n",
        "file.close()\n",
        "print(f\"File {fileName} contains {len(data)} lines\")\n",
        "\"\"\""
      ]
    },
    {
      "cell_type": "markdown",
      "id": "5465b090",
      "metadata": {
        "heading_collapsed": true,
        "id": "5465b090"
      },
      "source": [
        "### A8.\n",
        "\n",
        "Nuskaitykite visą nurodyto failo turinį. Pirmų keturių stulpelių duomenis surašykite į keturis atskirus sąrašus. Atspausdinkite kiekvieno sąrašo pirmus keturis narius. Pirmas dvi eilutes praleiskite.\n",
        "\n",
        "Pavyzdys:\n",
        "\n",
        "```\n",
        "Duomenų pavyzdys:\n",
        "1: 4100.234, 4100.74, 4101.18, 4101.607\n",
        "2: 4100.751, 4101.257, 4101.697, 4102.124\n",
        "3: 100.8, 82.2, 328.3, 66.2\n",
        "4: 19.31, 7.83, 5.24, 9.78\n",
        "```\n",
        "\n"
      ]
    },
    {
      "cell_type": "code",
      "execution_count": 40,
      "id": "2ee9a8c7",
      "metadata": {
        "hidden": true,
        "id": "2ee9a8c7",
        "outputId": "1b8d1b67-a6df-42ba-85f0-d06b3fb9cd14",
        "colab": {
          "base_uri": "https://localhost:8080/",
          "height": 211
        }
      },
      "outputs": [
        {
          "output_type": "error",
          "ename": "IndexError",
          "evalue": "list index out of range",
          "traceback": [
            "\u001b[0;31m---------------------------------------------------------------------------\u001b[0m",
            "\u001b[0;31mIndexError\u001b[0m                                Traceback (most recent call last)",
            "\u001b[0;32m/tmp/ipython-input-166530725.py\u001b[0m in \u001b[0;36m<cell line: 0>\u001b[0;34m()\u001b[0m\n\u001b[1;32m      9\u001b[0m     \u001b[0minformacija\u001b[0m\u001b[0;34m[\u001b[0m\u001b[0;34m\"antras\"\u001b[0m\u001b[0;34m]\u001b[0m\u001b[0;34m.\u001b[0m\u001b[0mappend\u001b[0m\u001b[0;34m(\u001b[0m\u001b[0mline\u001b[0m\u001b[0;34m[\u001b[0m\u001b[0;36m1\u001b[0m\u001b[0;34m]\u001b[0m\u001b[0;34m)\u001b[0m\u001b[0;34m\u001b[0m\u001b[0;34m\u001b[0m\u001b[0m\n\u001b[1;32m     10\u001b[0m     \u001b[0minformacija\u001b[0m\u001b[0;34m[\u001b[0m\u001b[0;34m\"trečias\"\u001b[0m\u001b[0;34m]\u001b[0m\u001b[0;34m.\u001b[0m\u001b[0mappend\u001b[0m\u001b[0;34m(\u001b[0m\u001b[0mline\u001b[0m\u001b[0;34m[\u001b[0m\u001b[0;36m2\u001b[0m\u001b[0;34m]\u001b[0m\u001b[0;34m)\u001b[0m\u001b[0;34m\u001b[0m\u001b[0;34m\u001b[0m\u001b[0m\n\u001b[0;32m---> 11\u001b[0;31m     \u001b[0minformacija\u001b[0m\u001b[0;34m[\u001b[0m\u001b[0;34m\"ketvirtas\"\u001b[0m\u001b[0;34m]\u001b[0m\u001b[0;34m.\u001b[0m\u001b[0mappend\u001b[0m\u001b[0;34m(\u001b[0m\u001b[0mline\u001b[0m\u001b[0;34m[\u001b[0m\u001b[0;36m3\u001b[0m\u001b[0;34m]\u001b[0m\u001b[0;34m)\u001b[0m\u001b[0;34m\u001b[0m\u001b[0;34m\u001b[0m\u001b[0m\n\u001b[0m\u001b[1;32m     12\u001b[0m \u001b[0mprint\u001b[0m\u001b[0;34m(\u001b[0m\u001b[0mzmogus\u001b[0m\u001b[0;34m)\u001b[0m\u001b[0;34m\u001b[0m\u001b[0;34m\u001b[0m\u001b[0m\n\u001b[1;32m     13\u001b[0m \u001b[0;34m\u001b[0m\u001b[0m\n",
            "\u001b[0;31mIndexError\u001b[0m: list index out of range"
          ]
        }
      ],
      "source": [
        "informacija = {\"pirmas\": [], \"antras\": [], \"trečias\": [], \"ketvirtas\": []}     #sukuriu naują žodyną, kur duomenys iš sulpelių\n",
        "n = 2\n",
        "\n",
        "\n",
        "with open(\"duomenys.txt\", \"r\") as info:\n",
        "  for line in info:\n",
        "    line = line.strip().split(\",\")             #atskiriu duomenis\n",
        "    informacija[\"pirmas\"].append(line[0])      #pridedu stulpelių vertes į žodyną\n",
        "    informacija[\"antras\"].append(line[1])\n",
        "    informacija[\"trečias\"].append(line[2])\n",
        "    informacija[\"ketvirtas\"].append(line[3])\n",
        "print(zmogus)\n",
        "\n",
        "\"\"\"\n",
        "fileName = \"duomenys.txt\"\n",
        "file = open(fileName, \"r\")\n",
        "data = file.readlines()[2:]\n",
        "file.close()\n",
        "s1 = []\n",
        "s2 = []\n",
        "s3 = []\n",
        "s4 = []\n",
        "for line in data:\n",
        "  line = line.split()\n",
        "  s1.append(float(line[0]))\n",
        "  s2.append(float(line[1]))\n",
        "  s3.append(float(line[2]))\n",
        "  s4.append(float(line[3]))\n",
        "\n",
        "ss = [s1, s2, s3, s4]\n",
        "\n",
        "print(\"First four lines of the data table: \")\n",
        "\n",
        "for i in range(0, 4):\n",
        "  print(f\"{i+1}: {ss[i][0]}, {ss[i][1]}, {ss[i][2]}, {ss[i][3]})\n",
        "\n",
        "\n",
        "\n",
        "\"\"\""
      ]
    },
    {
      "cell_type": "markdown",
      "id": "b5b67d2f",
      "metadata": {
        "heading_collapsed": true,
        "id": "b5b67d2f"
      },
      "source": [
        "### A9.\n",
        "\n",
        "Raskite didžiausią trečio stulpelio vertę ir ją atitinkancią antro stulpelio vertę. Rezultatą atspausdinkite.\n",
        "\n",
        "Pavyzdys:\n",
        "\n",
        "```\n",
        "Didžiausia 3 stulpelio vertė: 665.6\n",
        "Ją atitinkanti 2 stulpelio vertė: 8229.477\n",
        "```"
      ]
    },
    {
      "cell_type": "code",
      "execution_count": null,
      "id": "3f4eb4b7",
      "metadata": {
        "hidden": true,
        "id": "3f4eb4b7"
      },
      "outputs": [],
      "source": []
    },
    {
      "cell_type": "markdown",
      "id": "O6uIWBNumuQP",
      "metadata": {
        "id": "O6uIWBNumuQP"
      },
      "source": [
        "### A10.\n",
        "\n",
        "Dauguma eilučių turi penkis stulpelius, tačiau dalis - yra ilgesnės. Atsidarykite failą, suraskite kaip atrodo tokios eilutės.\n",
        "\n",
        "```\n",
        "4501.254  4501.242    198.7  16.23   3.763  4501.270 \tTi__2\n",
        "```\n",
        "\n",
        "Jos gali šiektiek skirtis, bet septintame stulpelyje visuomet yra cheminio elemento simbolis.\n",
        "\n",
        "Sukurkite naują failą pavadinimu `duomenys_filtered.txt` kuriame būtų paliktas originalaus failo `header`is (pirmos dvi eilutės) ir tik toks eilutės, kuriose yra identifikuoti cheminiai elementai.\n",
        "\n",
        "Failo pradžia turėtų atrodyti panašiai:\n",
        "\n",
        "```\n",
        "Radial velocity =     0.812  dispersion =   1.334  FWHM =   9.299, 751 lines matched out of 5,825\n",
        "Relative flux dispersion in residual spectrum = 3.417%\n",
        "4501.254  4501.242    198.7  16.23   3.763  4501.270 \tTi__2\n",
        "4508.286  4508.274     81.8   4.22   0.837  4508.288 \tFe__2\n",
        "4515.348  4515.336    138.2  18.68   3.294  4515.339 \tFe__2\n",
        "4518.393  4518.380    117.4   4.60   1.117  4518.332 \tTi__2\n",
        "...\n",
        "```\n",
        "\n",
        "Užuominos:\n",
        "*   Atidaryto failo perrašyti nepavyks, tam reikės atsidaryti/susikurti naują failą.\n",
        "\n",
        "*   Į jį įrašyti tik tą informaciją kurios reikia.\n",
        "*   Ieškokite tokių eilučių, kuriose yra daugiau nei penkios vertės.\n",
        "\n"
      ]
    },
    {
      "cell_type": "code",
      "execution_count": null,
      "id": "7L5EVg4wn7WC",
      "metadata": {
        "id": "7L5EVg4wn7WC"
      },
      "outputs": [],
      "source": []
    },
    {
      "cell_type": "markdown",
      "id": "1b300a24",
      "metadata": {
        "heading_collapsed": true,
        "id": "1b300a24"
      },
      "source": [
        "### B1.\n",
        "\n",
        "Nuskaitykite pradinį duomenų failą. Kai kuriose eilutėse yra įvardinti cheminiai elementai. Sudarykite šių elementų sarašą ir atspausdinkite jį.\n",
        "\n",
        "Liepkite įvesti norimo elemento pavadinimą (pvz. Si arba Fe). Patikrinkite ar įvestas elementas yra sąraše.\n",
        "Sukurkite naują failą, kuriame būtų dvi pirmosios pradinio duomenų failo eilutės ir visos eilutės, kuriose yra įvesto elemento pavadinimas.\n",
        "\n",
        "Pavyzdžiui, jei įvestas elementas yra Si, išrinkite visas eilutes kuriose 7-tame stulpelyje yra raidės Si."
      ]
    },
    {
      "cell_type": "code",
      "execution_count": null,
      "id": "KJh65pDxp8V2",
      "metadata": {
        "id": "KJh65pDxp8V2"
      },
      "outputs": [],
      "source": []
    },
    {
      "cell_type": "markdown",
      "id": "0d3e1f2b",
      "metadata": {
        "id": "0d3e1f2b"
      },
      "source": [
        "## Sandbox"
      ]
    },
    {
      "cell_type": "code",
      "execution_count": null,
      "id": "3b055534",
      "metadata": {
        "id": "3b055534"
      },
      "outputs": [],
      "source": []
    },
    {
      "cell_type": "markdown",
      "id": "45ec25b9",
      "metadata": {
        "id": "45ec25b9"
      },
      "source": [
        "---"
      ]
    }
  ],
  "metadata": {
    "colab": {
      "generative_ai_disabled": true,
      "provenance": []
    },
    "kernelspec": {
      "display_name": "Python 3",
      "name": "python3"
    },
    "language_info": {
      "codemirror_mode": {
        "name": "ipython",
        "version": 3
      },
      "file_extension": ".py",
      "mimetype": "text/x-python",
      "name": "python",
      "nbconvert_exporter": "python",
      "pygments_lexer": "ipython3",
      "version": "3.12.7"
    },
    "latex_envs": {
      "LaTeX_envs_menu_present": true,
      "autoclose": false,
      "autocomplete": true,
      "bibliofile": "biblio.bib",
      "cite_by": "apalike",
      "current_citInitial": 1,
      "eqLabelWithNumbers": true,
      "eqNumInitial": 1,
      "hotkeys": {
        "equation": "Ctrl-E",
        "itemize": "Ctrl-I"
      },
      "labels_anchors": false,
      "latex_user_defs": false,
      "report_style_numbering": false,
      "user_envs_cfg": false
    }
  },
  "nbformat": 4,
  "nbformat_minor": 5
}